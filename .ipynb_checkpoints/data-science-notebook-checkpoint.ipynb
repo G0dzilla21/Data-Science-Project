{
 "cells": [
  {
   "cell_type": "markdown",
   "metadata": {
    "id": "yEKmqQ11EYoA"
   },
   "source": [
    "# Retail Store Data"
   ]
  },
  {
   "cell_type": "markdown",
   "metadata": {
    "id": "mn7fPfaMEckf"
   },
   "source": [
    "Import pandas, seaborn, and matplotlib."
   ]
  },
  {
   "cell_type": "code",
   "execution_count": 1,
   "metadata": {
    "id": "ytR66kXR5yiv"
   },
   "outputs": [],
   "source": [
    "import pandas as pd\n",
    "import seaborn as sb\n",
    "from sklearn import metrics\n",
    "from sklearn.linear_model import LogisticRegression\n",
    "from sklearn.tree import DecisionTreeClassifier\n",
    "from sklearn.model_selection import train_test_split\n",
    "from sklearn.preprocessing import scale\n",
    "from collections import Counter\n",
    "%matplotlib inline"
   ]
  },
  {
   "cell_type": "markdown",
   "metadata": {
    "id": "hNUG4-YvEgWw"
   },
   "source": [
    "Read the train data.  "
   ]
  },
  {
   "cell_type": "code",
   "execution_count": 2,
   "metadata": {
    "id": "tdiO_Ru25-uP"
   },
   "outputs": [],
   "source": [
    "features = pd.read_csv(\"features.csv\",\n",
    "                     sep=\",\",  # delimiter\n",
    "                     header=0, # header in first row\n",
    "                     index_col=0 # ids in first column\n",
    "                     )\n",
    "sales = pd.read_csv(\"sales.csv\",\n",
    "                     sep=\",\",  # delimiter\n",
    "                     header=0, # header in first row\n",
    "                     index_col=0 # ids in first column\n",
    "                     )\n",
    "\n",
    "\n",
    "stores = pd.read_csv(\"stores.csv\",\n",
    "                     sep=\",\",  # delimiter\n",
    "                     header=0, # header in first row\n",
    "                     index_col=0 # ids in first column\n",
    "                     )"
   ]
  },
  {
   "cell_type": "markdown",
   "metadata": {
    "id": "hNUG4-YvEgWw"
   },
   "source": [
    "Convert dates to the correct data type"
   ]
  },
  {
   "cell_type": "code",
   "execution_count": 3,
   "metadata": {
    "scrolled": true
   },
   "outputs": [
    {
     "name": "stdout",
     "output_type": "stream",
     "text": [
      "Store\n",
      "1    2010-02-05\n",
      "1    2010-02-12\n",
      "1    2010-02-19\n",
      "1    2010-02-26\n",
      "1    2010-03-05\n",
      "        ...    \n",
      "45   2013-06-28\n",
      "45   2013-07-05\n",
      "45   2013-07-12\n",
      "45   2013-07-19\n",
      "45   2013-07-26\n",
      "Name: Date, Length: 8190, dtype: datetime64[ns] Store\n",
      "1    2010-02-05\n",
      "1    2010-02-12\n",
      "1    2010-02-19\n",
      "1    2010-02-26\n",
      "1    2010-03-05\n",
      "        ...    \n",
      "45   2012-09-28\n",
      "45   2012-10-05\n",
      "45   2012-10-12\n",
      "45   2012-10-19\n",
      "45   2012-10-26\n",
      "Name: Date, Length: 421570, dtype: datetime64[ns]\n"
     ]
    }
   ],
   "source": [
    "#Lets convert the dates to the right data type\n",
    "features['Date'] = pd.to_datetime(features['Date'], format='%d/%m/%Y')\n",
    "sales['Date'] = pd.to_datetime(sales['Date'], format='%d/%m/%Y')\n",
    "#now lets make sure they converted correctly\n",
    "print(features['Date'] ,sales['Date'])"
   ]
  },
  {
   "cell_type": "markdown",
   "metadata": {
    "id": "hNUG4-YvEgWw"
   },
   "source": [
    "We want to look at our data and see where the nulls are if there are any"
   ]
  },
  {
   "cell_type": "code",
   "execution_count": 4,
   "metadata": {
    "scrolled": true
   },
   "outputs": [
    {
     "data": {
      "text/html": [
       "<div>\n",
       "<style scoped>\n",
       "    .dataframe tbody tr th:only-of-type {\n",
       "        vertical-align: middle;\n",
       "    }\n",
       "\n",
       "    .dataframe tbody tr th {\n",
       "        vertical-align: top;\n",
       "    }\n",
       "\n",
       "    .dataframe thead th {\n",
       "        text-align: right;\n",
       "    }\n",
       "</style>\n",
       "<table border=\"1\" class=\"dataframe\">\n",
       "  <thead>\n",
       "    <tr style=\"text-align: right;\">\n",
       "      <th></th>\n",
       "      <th>Date</th>\n",
       "      <th>Temperature</th>\n",
       "      <th>Fuel_Price</th>\n",
       "      <th>MarkDown1</th>\n",
       "      <th>MarkDown2</th>\n",
       "      <th>MarkDown3</th>\n",
       "      <th>MarkDown4</th>\n",
       "      <th>MarkDown5</th>\n",
       "      <th>CPI</th>\n",
       "      <th>Unemployment</th>\n",
       "      <th>IsHoliday</th>\n",
       "    </tr>\n",
       "  </thead>\n",
       "  <tbody>\n",
       "    <tr>\n",
       "      <th>count</th>\n",
       "      <td>8190</td>\n",
       "      <td>8190.000000</td>\n",
       "      <td>8190.000000</td>\n",
       "      <td>4032.000000</td>\n",
       "      <td>2921.000000</td>\n",
       "      <td>3613.000000</td>\n",
       "      <td>3464.000000</td>\n",
       "      <td>4050.000000</td>\n",
       "      <td>7605.000000</td>\n",
       "      <td>7605.000000</td>\n",
       "      <td>8190</td>\n",
       "    </tr>\n",
       "    <tr>\n",
       "      <th>unique</th>\n",
       "      <td>NaN</td>\n",
       "      <td>NaN</td>\n",
       "      <td>NaN</td>\n",
       "      <td>NaN</td>\n",
       "      <td>NaN</td>\n",
       "      <td>NaN</td>\n",
       "      <td>NaN</td>\n",
       "      <td>NaN</td>\n",
       "      <td>NaN</td>\n",
       "      <td>NaN</td>\n",
       "      <td>2</td>\n",
       "    </tr>\n",
       "    <tr>\n",
       "      <th>top</th>\n",
       "      <td>NaN</td>\n",
       "      <td>NaN</td>\n",
       "      <td>NaN</td>\n",
       "      <td>NaN</td>\n",
       "      <td>NaN</td>\n",
       "      <td>NaN</td>\n",
       "      <td>NaN</td>\n",
       "      <td>NaN</td>\n",
       "      <td>NaN</td>\n",
       "      <td>NaN</td>\n",
       "      <td>False</td>\n",
       "    </tr>\n",
       "    <tr>\n",
       "      <th>freq</th>\n",
       "      <td>NaN</td>\n",
       "      <td>NaN</td>\n",
       "      <td>NaN</td>\n",
       "      <td>NaN</td>\n",
       "      <td>NaN</td>\n",
       "      <td>NaN</td>\n",
       "      <td>NaN</td>\n",
       "      <td>NaN</td>\n",
       "      <td>NaN</td>\n",
       "      <td>NaN</td>\n",
       "      <td>7605</td>\n",
       "    </tr>\n",
       "    <tr>\n",
       "      <th>mean</th>\n",
       "      <td>2011-10-31 12:00:00</td>\n",
       "      <td>59.356198</td>\n",
       "      <td>3.405992</td>\n",
       "      <td>7032.371786</td>\n",
       "      <td>3384.176594</td>\n",
       "      <td>1760.100180</td>\n",
       "      <td>3292.935886</td>\n",
       "      <td>4132.216422</td>\n",
       "      <td>172.460809</td>\n",
       "      <td>7.826821</td>\n",
       "      <td>NaN</td>\n",
       "    </tr>\n",
       "    <tr>\n",
       "      <th>min</th>\n",
       "      <td>2010-02-05 00:00:00</td>\n",
       "      <td>-7.290000</td>\n",
       "      <td>2.472000</td>\n",
       "      <td>-2781.450000</td>\n",
       "      <td>-265.760000</td>\n",
       "      <td>-179.260000</td>\n",
       "      <td>0.220000</td>\n",
       "      <td>-185.170000</td>\n",
       "      <td>126.064000</td>\n",
       "      <td>3.684000</td>\n",
       "      <td>NaN</td>\n",
       "    </tr>\n",
       "    <tr>\n",
       "      <th>25%</th>\n",
       "      <td>2010-12-17 00:00:00</td>\n",
       "      <td>45.902500</td>\n",
       "      <td>3.041000</td>\n",
       "      <td>1577.532500</td>\n",
       "      <td>68.880000</td>\n",
       "      <td>6.600000</td>\n",
       "      <td>304.687500</td>\n",
       "      <td>1440.827500</td>\n",
       "      <td>132.364839</td>\n",
       "      <td>6.634000</td>\n",
       "      <td>NaN</td>\n",
       "    </tr>\n",
       "    <tr>\n",
       "      <th>50%</th>\n",
       "      <td>2011-10-31 12:00:00</td>\n",
       "      <td>60.710000</td>\n",
       "      <td>3.513000</td>\n",
       "      <td>4743.580000</td>\n",
       "      <td>364.570000</td>\n",
       "      <td>36.260000</td>\n",
       "      <td>1176.425000</td>\n",
       "      <td>2727.135000</td>\n",
       "      <td>182.764003</td>\n",
       "      <td>7.806000</td>\n",
       "      <td>NaN</td>\n",
       "    </tr>\n",
       "    <tr>\n",
       "      <th>75%</th>\n",
       "      <td>2012-09-14 00:00:00</td>\n",
       "      <td>73.880000</td>\n",
       "      <td>3.743000</td>\n",
       "      <td>8923.310000</td>\n",
       "      <td>2153.350000</td>\n",
       "      <td>163.150000</td>\n",
       "      <td>3310.007500</td>\n",
       "      <td>4832.555000</td>\n",
       "      <td>213.932412</td>\n",
       "      <td>8.567000</td>\n",
       "      <td>NaN</td>\n",
       "    </tr>\n",
       "    <tr>\n",
       "      <th>max</th>\n",
       "      <td>2013-07-26 00:00:00</td>\n",
       "      <td>101.950000</td>\n",
       "      <td>4.468000</td>\n",
       "      <td>103184.980000</td>\n",
       "      <td>104519.540000</td>\n",
       "      <td>149483.310000</td>\n",
       "      <td>67474.850000</td>\n",
       "      <td>771448.100000</td>\n",
       "      <td>228.976456</td>\n",
       "      <td>14.313000</td>\n",
       "      <td>NaN</td>\n",
       "    </tr>\n",
       "    <tr>\n",
       "      <th>std</th>\n",
       "      <td>NaN</td>\n",
       "      <td>18.678607</td>\n",
       "      <td>0.431337</td>\n",
       "      <td>9262.747448</td>\n",
       "      <td>8793.583016</td>\n",
       "      <td>11276.462208</td>\n",
       "      <td>6792.329861</td>\n",
       "      <td>13086.690278</td>\n",
       "      <td>39.738346</td>\n",
       "      <td>1.877259</td>\n",
       "      <td>NaN</td>\n",
       "    </tr>\n",
       "  </tbody>\n",
       "</table>\n",
       "</div>"
      ],
      "text/plain": [
       "                       Date  Temperature   Fuel_Price      MarkDown1  \\\n",
       "count                  8190  8190.000000  8190.000000    4032.000000   \n",
       "unique                  NaN          NaN          NaN            NaN   \n",
       "top                     NaN          NaN          NaN            NaN   \n",
       "freq                    NaN          NaN          NaN            NaN   \n",
       "mean    2011-10-31 12:00:00    59.356198     3.405992    7032.371786   \n",
       "min     2010-02-05 00:00:00    -7.290000     2.472000   -2781.450000   \n",
       "25%     2010-12-17 00:00:00    45.902500     3.041000    1577.532500   \n",
       "50%     2011-10-31 12:00:00    60.710000     3.513000    4743.580000   \n",
       "75%     2012-09-14 00:00:00    73.880000     3.743000    8923.310000   \n",
       "max     2013-07-26 00:00:00   101.950000     4.468000  103184.980000   \n",
       "std                     NaN    18.678607     0.431337    9262.747448   \n",
       "\n",
       "            MarkDown2      MarkDown3     MarkDown4      MarkDown5  \\\n",
       "count     2921.000000    3613.000000   3464.000000    4050.000000   \n",
       "unique            NaN            NaN           NaN            NaN   \n",
       "top               NaN            NaN           NaN            NaN   \n",
       "freq              NaN            NaN           NaN            NaN   \n",
       "mean      3384.176594    1760.100180   3292.935886    4132.216422   \n",
       "min       -265.760000    -179.260000      0.220000    -185.170000   \n",
       "25%         68.880000       6.600000    304.687500    1440.827500   \n",
       "50%        364.570000      36.260000   1176.425000    2727.135000   \n",
       "75%       2153.350000     163.150000   3310.007500    4832.555000   \n",
       "max     104519.540000  149483.310000  67474.850000  771448.100000   \n",
       "std       8793.583016   11276.462208   6792.329861   13086.690278   \n",
       "\n",
       "                CPI  Unemployment IsHoliday  \n",
       "count   7605.000000   7605.000000      8190  \n",
       "unique          NaN           NaN         2  \n",
       "top             NaN           NaN     False  \n",
       "freq            NaN           NaN      7605  \n",
       "mean     172.460809      7.826821       NaN  \n",
       "min      126.064000      3.684000       NaN  \n",
       "25%      132.364839      6.634000       NaN  \n",
       "50%      182.764003      7.806000       NaN  \n",
       "75%      213.932412      8.567000       NaN  \n",
       "max      228.976456     14.313000       NaN  \n",
       "std       39.738346      1.877259       NaN  "
      ]
     },
     "execution_count": 4,
     "metadata": {},
     "output_type": "execute_result"
    }
   ],
   "source": [
    "features.describe(include=\"all\",datetime_is_numeric=True)"
   ]
  },
  {
   "cell_type": "code",
   "execution_count": 5,
   "metadata": {
    "scrolled": true
   },
   "outputs": [
    {
     "name": "stdout",
     "output_type": "stream",
     "text": [
      "       Dept       Date  Weekly_Sales  IsHoliday\n",
      "Store                                          \n",
      "45       98 2012-09-28        508.37      False\n",
      "45       98 2012-10-05        628.10      False\n",
      "45       98 2012-10-12       1061.02      False\n",
      "45       98 2012-10-19        760.01      False\n",
      "45       98 2012-10-26       1076.80      False\n"
     ]
    }
   ],
   "source": [
    "print(sales.tail())"
   ]
  },
  {
   "cell_type": "code",
   "execution_count": 6,
   "metadata": {},
   "outputs": [
    {
     "name": "stdout",
     "output_type": "stream",
     "text": [
      "            Date  Temperature  Fuel_Price  MarkDown1  MarkDown2  MarkDown3  \\\n",
      "Store                                                                        \n",
      "45    2013-06-28        76.05       3.639    4842.29     975.03       3.00   \n",
      "45    2013-07-05        77.50       3.614    9090.48    2268.58     582.74   \n",
      "45    2013-07-12        79.37       3.614    3789.94    1827.31      85.72   \n",
      "45    2013-07-19        82.84       3.737    2961.49    1047.07     204.19   \n",
      "45    2013-07-26        76.06       3.804     212.02     851.73       2.06   \n",
      "\n",
      "       MarkDown4  MarkDown5  CPI  Unemployment  IsHoliday  \n",
      "Store                                                      \n",
      "45       2449.97    3169.69  NaN           NaN      False  \n",
      "45       5797.47    1514.93  NaN           NaN      False  \n",
      "45        744.84    2150.36  NaN           NaN      False  \n",
      "45        363.00    1059.46  NaN           NaN      False  \n",
      "45         10.88    1864.57  NaN           NaN      False  \n"
     ]
    }
   ],
   "source": [
    "print(features.tail())"
   ]
  },
  {
   "cell_type": "code",
   "execution_count": 7,
   "metadata": {
    "scrolled": true
   },
   "outputs": [
    {
     "name": "stdout",
     "output_type": "stream",
     "text": [
      "      Type    Size\n",
      "Store             \n",
      "41       A  196321\n",
      "42       C   39690\n",
      "43       C   41062\n",
      "44       C   39910\n",
      "45       B  118221\n"
     ]
    }
   ],
   "source": [
    "print(stores.tail())"
   ]
  },
  {
   "cell_type": "markdown",
   "metadata": {
    "id": "hNUG4-YvEgWw"
   },
   "source": [
    "Now lets merge our tables"
   ]
  },
  {
   "cell_type": "code",
   "execution_count": 8,
   "metadata": {},
   "outputs": [],
   "source": [
    "#first merge\n",
    "retail_df=pd.merge(sales,features, on=['Store','Date', 'IsHoliday'], how='left')\n",
    "#second_merge\n",
    "retail_df=pd.merge(retail_df,stores, on=['Store'], how='left')\n",
    "retail_df=retail_df.reset_index()\n",
    "#Explanation below"
   ]
  },
  {
   "cell_type": "markdown",
   "metadata": {
    "id": "hNUG4-YvEgWw"
   },
   "source": [
    "Merge Explanation:\n",
    "First, we want to match on the store#, date, and holiday since they are the same for each record in\n",
    "both tables \"sales\" and \"features\" (becomes composite primary key in the merged table). We want to do a left join to include all records from the left table and only the matched records from the right because we want the records for each weekly_sales number in every department and this will also display our records with the nulls from the right table. We then want to add on the stores database by merging it onto the database I had just created \"retail_df\" with another left merge. This will ensure that all records are included from \"retail_df\" as well as assign a store type and size to each record.\n"
   ]
  },
  {
   "cell_type": "code",
   "execution_count": 10,
   "metadata": {},
   "outputs": [
    {
     "name": "stdout",
     "output_type": "stream",
     "text": [
      "None\n"
     ]
    }
   ],
   "source": [
    "#Now, I'm interested in Total Weekly_Sales by store rather than each specific department as well\n",
    "#I want to do a groupby of store by Date and display the summed up Weekly Sales\n",
    "total_sales = retail_df.groupby([\"Store\",\"Date\"], as_index=False)['Weekly_Sales'].sum()\n",
    "#convert into df\n",
    "total_sales = pd.DataFrame(total_sales)\n",
    "total_sales = total_sales.rename(columns = {'Weekly_Sales':'Total_Weekly_Sales'}, inplace = True)\n",
    "print(total_sales)"
   ]
  },
  {
   "cell_type": "markdown",
   "metadata": {
    "id": "hNUG4-YvEgWw"
   },
   "source": [
    "Convert categorical data to numerical, filling in missing data"
   ]
  },
  {
   "cell_type": "code",
   "execution_count": 9,
   "metadata": {
    "scrolled": true
   },
   "outputs": [],
   "source": [
    "#create new columns out of Date\n",
    "retail_df[\"Month\"] = retail_df.Date.dt.month\n",
    "retail_df[\"Year\"] = retail_df.Date.dt.year\n",
    "retail_df[\"WeekofYear\"] = retail_df.Date.dt.isocalendar().week\n",
    "retail_df.drop(['Date'],axis=1,inplace=True)"
   ]
  },
  {
   "cell_type": "code",
   "execution_count": 10,
   "metadata": {},
   "outputs": [],
   "source": [
    "'''\n",
    "Since the data didn't come with explanations on everything, I assumed the Markdown columns to be a\n",
    "representation of the dollar value of total markdowns sold for that particular week in different\n",
    "categories (maybe clearance). Therefore, if the data had null values I assumed that it meant there\n",
    "were no markdowns sold for that week and replaced nulls with 0.\n",
    "'''\n",
    "retail_df['MarkDown1'].fillna(0, inplace=True)\n",
    "retail_df['MarkDown2'].fillna(0, inplace=True)\n",
    "retail_df['MarkDown3'].fillna(0, inplace=True)\n",
    "retail_df['MarkDown4'].fillna(0, inplace=True)\n",
    "retail_df['MarkDown5'].fillna(0, inplace=True)\n",
    "\n",
    "retail_df['CPI'].fillna((retail_df['CPI'].mean()), inplace=True)\n",
    "retail_df['Unemployment'].fillna((retail_df['Unemployment'].mean()), inplace=True)\n",
    "#CPI and unemployment should be replaced with average as to not throw the data off\n",
    "retail_df['IsHoliday'] = retail_df['IsHoliday'].map({True:0,False:1})\n",
    "types_encoded, types =retail_df['Type'].factorize()\n",
    "retail_df['Type'] = types_encoded\n",
    "#converting our weekly sales to a number from 0 to 1\n",
    "#retail_df['Weekly_Sales'] = (retail_df['Weekly_Sales']/1000).round(1)\n",
    "#retail_df['Weekly_Sales'] = retail_df['Weekly_Sales'].apply(int)\n"
   ]
  },
  {
   "cell_type": "code",
   "execution_count": 11,
   "metadata": {
    "id": "nacfQfeGxiRh",
    "scrolled": true
   },
   "outputs": [
    {
     "data": {
      "text/html": [
       "<div>\n",
       "<style scoped>\n",
       "    .dataframe tbody tr th:only-of-type {\n",
       "        vertical-align: middle;\n",
       "    }\n",
       "\n",
       "    .dataframe tbody tr th {\n",
       "        vertical-align: top;\n",
       "    }\n",
       "\n",
       "    .dataframe thead th {\n",
       "        text-align: right;\n",
       "    }\n",
       "</style>\n",
       "<table border=\"1\" class=\"dataframe\">\n",
       "  <thead>\n",
       "    <tr style=\"text-align: right;\">\n",
       "      <th></th>\n",
       "      <th>Store</th>\n",
       "      <th>Dept</th>\n",
       "      <th>Weekly_Sales</th>\n",
       "      <th>IsHoliday</th>\n",
       "      <th>Temperature</th>\n",
       "      <th>Fuel_Price</th>\n",
       "      <th>MarkDown1</th>\n",
       "      <th>MarkDown2</th>\n",
       "      <th>MarkDown3</th>\n",
       "      <th>MarkDown4</th>\n",
       "      <th>MarkDown5</th>\n",
       "      <th>CPI</th>\n",
       "      <th>Unemployment</th>\n",
       "      <th>Type</th>\n",
       "      <th>Size</th>\n",
       "      <th>Month</th>\n",
       "      <th>Year</th>\n",
       "      <th>WeekofYear</th>\n",
       "    </tr>\n",
       "  </thead>\n",
       "  <tbody>\n",
       "    <tr>\n",
       "      <th>0</th>\n",
       "      <td>1</td>\n",
       "      <td>1</td>\n",
       "      <td>24924.50</td>\n",
       "      <td>1</td>\n",
       "      <td>42.31</td>\n",
       "      <td>2.572</td>\n",
       "      <td>0.0</td>\n",
       "      <td>0.0</td>\n",
       "      <td>0.0</td>\n",
       "      <td>0.0</td>\n",
       "      <td>0.0</td>\n",
       "      <td>211.096358</td>\n",
       "      <td>8.106</td>\n",
       "      <td>0</td>\n",
       "      <td>151315</td>\n",
       "      <td>2</td>\n",
       "      <td>2010</td>\n",
       "      <td>5</td>\n",
       "    </tr>\n",
       "    <tr>\n",
       "      <th>1</th>\n",
       "      <td>1</td>\n",
       "      <td>1</td>\n",
       "      <td>46039.49</td>\n",
       "      <td>0</td>\n",
       "      <td>38.51</td>\n",
       "      <td>2.548</td>\n",
       "      <td>0.0</td>\n",
       "      <td>0.0</td>\n",
       "      <td>0.0</td>\n",
       "      <td>0.0</td>\n",
       "      <td>0.0</td>\n",
       "      <td>211.242170</td>\n",
       "      <td>8.106</td>\n",
       "      <td>0</td>\n",
       "      <td>151315</td>\n",
       "      <td>2</td>\n",
       "      <td>2010</td>\n",
       "      <td>6</td>\n",
       "    </tr>\n",
       "    <tr>\n",
       "      <th>2</th>\n",
       "      <td>1</td>\n",
       "      <td>1</td>\n",
       "      <td>41595.55</td>\n",
       "      <td>1</td>\n",
       "      <td>39.93</td>\n",
       "      <td>2.514</td>\n",
       "      <td>0.0</td>\n",
       "      <td>0.0</td>\n",
       "      <td>0.0</td>\n",
       "      <td>0.0</td>\n",
       "      <td>0.0</td>\n",
       "      <td>211.289143</td>\n",
       "      <td>8.106</td>\n",
       "      <td>0</td>\n",
       "      <td>151315</td>\n",
       "      <td>2</td>\n",
       "      <td>2010</td>\n",
       "      <td>7</td>\n",
       "    </tr>\n",
       "    <tr>\n",
       "      <th>3</th>\n",
       "      <td>1</td>\n",
       "      <td>1</td>\n",
       "      <td>19403.54</td>\n",
       "      <td>1</td>\n",
       "      <td>46.63</td>\n",
       "      <td>2.561</td>\n",
       "      <td>0.0</td>\n",
       "      <td>0.0</td>\n",
       "      <td>0.0</td>\n",
       "      <td>0.0</td>\n",
       "      <td>0.0</td>\n",
       "      <td>211.319643</td>\n",
       "      <td>8.106</td>\n",
       "      <td>0</td>\n",
       "      <td>151315</td>\n",
       "      <td>2</td>\n",
       "      <td>2010</td>\n",
       "      <td>8</td>\n",
       "    </tr>\n",
       "    <tr>\n",
       "      <th>4</th>\n",
       "      <td>1</td>\n",
       "      <td>1</td>\n",
       "      <td>21827.90</td>\n",
       "      <td>1</td>\n",
       "      <td>46.50</td>\n",
       "      <td>2.625</td>\n",
       "      <td>0.0</td>\n",
       "      <td>0.0</td>\n",
       "      <td>0.0</td>\n",
       "      <td>0.0</td>\n",
       "      <td>0.0</td>\n",
       "      <td>211.350143</td>\n",
       "      <td>8.106</td>\n",
       "      <td>0</td>\n",
       "      <td>151315</td>\n",
       "      <td>3</td>\n",
       "      <td>2010</td>\n",
       "      <td>9</td>\n",
       "    </tr>\n",
       "  </tbody>\n",
       "</table>\n",
       "</div>"
      ],
      "text/plain": [
       "   Store  Dept  Weekly_Sales  IsHoliday  Temperature  Fuel_Price  MarkDown1  \\\n",
       "0      1     1      24924.50          1        42.31       2.572        0.0   \n",
       "1      1     1      46039.49          0        38.51       2.548        0.0   \n",
       "2      1     1      41595.55          1        39.93       2.514        0.0   \n",
       "3      1     1      19403.54          1        46.63       2.561        0.0   \n",
       "4      1     1      21827.90          1        46.50       2.625        0.0   \n",
       "\n",
       "   MarkDown2  MarkDown3  MarkDown4  MarkDown5         CPI  Unemployment  Type  \\\n",
       "0        0.0        0.0        0.0        0.0  211.096358         8.106     0   \n",
       "1        0.0        0.0        0.0        0.0  211.242170         8.106     0   \n",
       "2        0.0        0.0        0.0        0.0  211.289143         8.106     0   \n",
       "3        0.0        0.0        0.0        0.0  211.319643         8.106     0   \n",
       "4        0.0        0.0        0.0        0.0  211.350143         8.106     0   \n",
       "\n",
       "     Size  Month  Year  WeekofYear  \n",
       "0  151315      2  2010           5  \n",
       "1  151315      2  2010           6  \n",
       "2  151315      2  2010           7  \n",
       "3  151315      2  2010           8  \n",
       "4  151315      3  2010           9  "
      ]
     },
     "execution_count": 11,
     "metadata": {},
     "output_type": "execute_result"
    }
   ],
   "source": [
    "retail_df.head()\n",
    "#print retail_df.corr()"
   ]
  },
  {
   "cell_type": "code",
   "execution_count": 12,
   "metadata": {},
   "outputs": [
    {
     "data": {
      "text/html": [
       "<div>\n",
       "<style scoped>\n",
       "    .dataframe tbody tr th:only-of-type {\n",
       "        vertical-align: middle;\n",
       "    }\n",
       "\n",
       "    .dataframe tbody tr th {\n",
       "        vertical-align: top;\n",
       "    }\n",
       "\n",
       "    .dataframe thead th {\n",
       "        text-align: right;\n",
       "    }\n",
       "</style>\n",
       "<table border=\"1\" class=\"dataframe\">\n",
       "  <thead>\n",
       "    <tr style=\"text-align: right;\">\n",
       "      <th></th>\n",
       "      <th>Store</th>\n",
       "      <th>Dept</th>\n",
       "      <th>Weekly_Sales</th>\n",
       "      <th>IsHoliday</th>\n",
       "      <th>Temperature</th>\n",
       "      <th>Fuel_Price</th>\n",
       "      <th>MarkDown1</th>\n",
       "      <th>MarkDown2</th>\n",
       "      <th>MarkDown3</th>\n",
       "      <th>MarkDown4</th>\n",
       "      <th>MarkDown5</th>\n",
       "      <th>CPI</th>\n",
       "      <th>Unemployment</th>\n",
       "      <th>Type</th>\n",
       "      <th>Size</th>\n",
       "      <th>Month</th>\n",
       "      <th>Year</th>\n",
       "      <th>WeekofYear</th>\n",
       "    </tr>\n",
       "  </thead>\n",
       "  <tbody>\n",
       "    <tr>\n",
       "      <th>count</th>\n",
       "      <td>421570.000000</td>\n",
       "      <td>421570.000000</td>\n",
       "      <td>421570.000000</td>\n",
       "      <td>421570.000000</td>\n",
       "      <td>421570.000000</td>\n",
       "      <td>421570.000000</td>\n",
       "      <td>421570.000000</td>\n",
       "      <td>421570.000000</td>\n",
       "      <td>421570.000000</td>\n",
       "      <td>421570.000000</td>\n",
       "      <td>421570.000000</td>\n",
       "      <td>421570.000000</td>\n",
       "      <td>421570.000000</td>\n",
       "      <td>421570.000000</td>\n",
       "      <td>421570.000000</td>\n",
       "      <td>421570.000000</td>\n",
       "      <td>421570.000000</td>\n",
       "      <td>421570.000000</td>\n",
       "    </tr>\n",
       "    <tr>\n",
       "      <th>mean</th>\n",
       "      <td>22.200546</td>\n",
       "      <td>44.260317</td>\n",
       "      <td>15981.258123</td>\n",
       "      <td>0.929642</td>\n",
       "      <td>60.090059</td>\n",
       "      <td>3.361027</td>\n",
       "      <td>2590.074819</td>\n",
       "      <td>879.974298</td>\n",
       "      <td>468.087665</td>\n",
       "      <td>1083.132268</td>\n",
       "      <td>1662.772385</td>\n",
       "      <td>171.201947</td>\n",
       "      <td>7.960289</td>\n",
       "      <td>0.589912</td>\n",
       "      <td>136727.915739</td>\n",
       "      <td>6.449510</td>\n",
       "      <td>2010.968591</td>\n",
       "      <td>25.826762</td>\n",
       "    </tr>\n",
       "    <tr>\n",
       "      <th>std</th>\n",
       "      <td>12.785297</td>\n",
       "      <td>30.492054</td>\n",
       "      <td>22711.183519</td>\n",
       "      <td>0.255750</td>\n",
       "      <td>18.447931</td>\n",
       "      <td>0.458515</td>\n",
       "      <td>6052.385934</td>\n",
       "      <td>5084.538801</td>\n",
       "      <td>5528.873453</td>\n",
       "      <td>3894.529945</td>\n",
       "      <td>4207.629321</td>\n",
       "      <td>39.159276</td>\n",
       "      <td>1.863296</td>\n",
       "      <td>0.666337</td>\n",
       "      <td>60980.583328</td>\n",
       "      <td>3.243217</td>\n",
       "      <td>0.796876</td>\n",
       "      <td>14.151887</td>\n",
       "    </tr>\n",
       "    <tr>\n",
       "      <th>min</th>\n",
       "      <td>1.000000</td>\n",
       "      <td>1.000000</td>\n",
       "      <td>-4988.940000</td>\n",
       "      <td>0.000000</td>\n",
       "      <td>-2.060000</td>\n",
       "      <td>2.472000</td>\n",
       "      <td>0.000000</td>\n",
       "      <td>-265.760000</td>\n",
       "      <td>-29.100000</td>\n",
       "      <td>0.000000</td>\n",
       "      <td>0.000000</td>\n",
       "      <td>126.064000</td>\n",
       "      <td>3.879000</td>\n",
       "      <td>0.000000</td>\n",
       "      <td>34875.000000</td>\n",
       "      <td>1.000000</td>\n",
       "      <td>2010.000000</td>\n",
       "      <td>1.000000</td>\n",
       "    </tr>\n",
       "    <tr>\n",
       "      <th>25%</th>\n",
       "      <td>11.000000</td>\n",
       "      <td>18.000000</td>\n",
       "      <td>2079.650000</td>\n",
       "      <td>1.000000</td>\n",
       "      <td>46.680000</td>\n",
       "      <td>2.933000</td>\n",
       "      <td>0.000000</td>\n",
       "      <td>0.000000</td>\n",
       "      <td>0.000000</td>\n",
       "      <td>0.000000</td>\n",
       "      <td>0.000000</td>\n",
       "      <td>132.022667</td>\n",
       "      <td>6.891000</td>\n",
       "      <td>0.000000</td>\n",
       "      <td>93638.000000</td>\n",
       "      <td>4.000000</td>\n",
       "      <td>2010.000000</td>\n",
       "      <td>14.000000</td>\n",
       "    </tr>\n",
       "    <tr>\n",
       "      <th>50%</th>\n",
       "      <td>22.000000</td>\n",
       "      <td>37.000000</td>\n",
       "      <td>7612.030000</td>\n",
       "      <td>1.000000</td>\n",
       "      <td>62.090000</td>\n",
       "      <td>3.452000</td>\n",
       "      <td>0.000000</td>\n",
       "      <td>0.000000</td>\n",
       "      <td>0.000000</td>\n",
       "      <td>0.000000</td>\n",
       "      <td>0.000000</td>\n",
       "      <td>182.318780</td>\n",
       "      <td>7.866000</td>\n",
       "      <td>0.000000</td>\n",
       "      <td>140167.000000</td>\n",
       "      <td>6.000000</td>\n",
       "      <td>2011.000000</td>\n",
       "      <td>26.000000</td>\n",
       "    </tr>\n",
       "    <tr>\n",
       "      <th>75%</th>\n",
       "      <td>33.000000</td>\n",
       "      <td>74.000000</td>\n",
       "      <td>20205.852500</td>\n",
       "      <td>1.000000</td>\n",
       "      <td>74.280000</td>\n",
       "      <td>3.738000</td>\n",
       "      <td>2809.050000</td>\n",
       "      <td>2.200000</td>\n",
       "      <td>4.540000</td>\n",
       "      <td>425.290000</td>\n",
       "      <td>2168.040000</td>\n",
       "      <td>212.416993</td>\n",
       "      <td>8.572000</td>\n",
       "      <td>1.000000</td>\n",
       "      <td>202505.000000</td>\n",
       "      <td>9.000000</td>\n",
       "      <td>2012.000000</td>\n",
       "      <td>38.000000</td>\n",
       "    </tr>\n",
       "    <tr>\n",
       "      <th>max</th>\n",
       "      <td>45.000000</td>\n",
       "      <td>99.000000</td>\n",
       "      <td>693099.360000</td>\n",
       "      <td>1.000000</td>\n",
       "      <td>100.140000</td>\n",
       "      <td>4.468000</td>\n",
       "      <td>88646.760000</td>\n",
       "      <td>104519.540000</td>\n",
       "      <td>141630.610000</td>\n",
       "      <td>67474.850000</td>\n",
       "      <td>108519.280000</td>\n",
       "      <td>227.232807</td>\n",
       "      <td>14.313000</td>\n",
       "      <td>2.000000</td>\n",
       "      <td>219622.000000</td>\n",
       "      <td>12.000000</td>\n",
       "      <td>2012.000000</td>\n",
       "      <td>52.000000</td>\n",
       "    </tr>\n",
       "  </tbody>\n",
       "</table>\n",
       "</div>"
      ],
      "text/plain": [
       "               Store           Dept   Weekly_Sales      IsHoliday  \\\n",
       "count  421570.000000  421570.000000  421570.000000  421570.000000   \n",
       "mean       22.200546      44.260317   15981.258123       0.929642   \n",
       "std        12.785297      30.492054   22711.183519       0.255750   \n",
       "min         1.000000       1.000000   -4988.940000       0.000000   \n",
       "25%        11.000000      18.000000    2079.650000       1.000000   \n",
       "50%        22.000000      37.000000    7612.030000       1.000000   \n",
       "75%        33.000000      74.000000   20205.852500       1.000000   \n",
       "max        45.000000      99.000000  693099.360000       1.000000   \n",
       "\n",
       "         Temperature     Fuel_Price      MarkDown1      MarkDown2  \\\n",
       "count  421570.000000  421570.000000  421570.000000  421570.000000   \n",
       "mean       60.090059       3.361027    2590.074819     879.974298   \n",
       "std        18.447931       0.458515    6052.385934    5084.538801   \n",
       "min        -2.060000       2.472000       0.000000    -265.760000   \n",
       "25%        46.680000       2.933000       0.000000       0.000000   \n",
       "50%        62.090000       3.452000       0.000000       0.000000   \n",
       "75%        74.280000       3.738000    2809.050000       2.200000   \n",
       "max       100.140000       4.468000   88646.760000  104519.540000   \n",
       "\n",
       "           MarkDown3      MarkDown4      MarkDown5            CPI  \\\n",
       "count  421570.000000  421570.000000  421570.000000  421570.000000   \n",
       "mean      468.087665    1083.132268    1662.772385     171.201947   \n",
       "std      5528.873453    3894.529945    4207.629321      39.159276   \n",
       "min       -29.100000       0.000000       0.000000     126.064000   \n",
       "25%         0.000000       0.000000       0.000000     132.022667   \n",
       "50%         0.000000       0.000000       0.000000     182.318780   \n",
       "75%         4.540000     425.290000    2168.040000     212.416993   \n",
       "max    141630.610000   67474.850000  108519.280000     227.232807   \n",
       "\n",
       "        Unemployment           Type           Size          Month  \\\n",
       "count  421570.000000  421570.000000  421570.000000  421570.000000   \n",
       "mean        7.960289       0.589912  136727.915739       6.449510   \n",
       "std         1.863296       0.666337   60980.583328       3.243217   \n",
       "min         3.879000       0.000000   34875.000000       1.000000   \n",
       "25%         6.891000       0.000000   93638.000000       4.000000   \n",
       "50%         7.866000       0.000000  140167.000000       6.000000   \n",
       "75%         8.572000       1.000000  202505.000000       9.000000   \n",
       "max        14.313000       2.000000  219622.000000      12.000000   \n",
       "\n",
       "                Year     WeekofYear  \n",
       "count  421570.000000  421570.000000  \n",
       "mean     2010.968591      25.826762  \n",
       "std         0.796876      14.151887  \n",
       "min      2010.000000       1.000000  \n",
       "25%      2010.000000      14.000000  \n",
       "50%      2011.000000      26.000000  \n",
       "75%      2012.000000      38.000000  \n",
       "max      2012.000000      52.000000  "
      ]
     },
     "execution_count": 12,
     "metadata": {},
     "output_type": "execute_result"
    }
   ],
   "source": [
    "retail_df.describe()\n",
    "#now our entire database columns have the expected counts of 42,1570"
   ]
  },
  {
   "cell_type": "markdown",
   "metadata": {
    "id": "-1ptU2Yvyn-L"
   },
   "source": [
    "Create train and test datasets."
   ]
  },
  {
   "cell_type": "code",
   "execution_count": 13,
   "metadata": {},
   "outputs": [
    {
     "data": {
      "text/plain": [
       "<AxesSubplot:>"
      ]
     },
     "execution_count": 13,
     "metadata": {},
     "output_type": "execute_result"
    },
    {
     "data": {
      "image/png": "[encoded data removed]",
      "text/plain": [
       "<Figure size 432x288 with 2 Axes>"
      ]
     },
     "metadata": {
      "needs_background": "light"
     },
     "output_type": "display_data"
    }
   ],
   "source": [
    "sb.heatmap(retail_df.corr())"
   ]
  },
  {
   "cell_type": "code",
   "execution_count": 13,
   "metadata": {
    "id": "_gA3CJ22RO1R",
    "scrolled": true
   },
   "outputs": [
    {
     "data": {
      "text/plain": [
       "0    1\n",
       "1    1\n",
       "2    1\n",
       "3    1\n",
       "4    1\n",
       "Name: IsHoliday, dtype: int64"
      ]
     },
     "execution_count": 13,
     "metadata": {},
     "output_type": "execute_result"
    }
   ],
   "source": [
    "X = retail_df.drop([\"IsHoliday\"], axis=1)\n",
    "y = retail_df['IsHoliday']\n",
    "X_train, X_test, y_train, y_test = train_test_split(\n",
    "    X,\n",
    "    y,\n",
    "    test_size=84314,\n",
    "    random_state=12345,\n",
    ")\n",
    "X_test = X_test.reset_index(drop=True)\n",
    "X_train = X_train.reset_index(drop=True)\n",
    "y_test = y_test.reset_index(drop=True)\n",
    "y_train = y_train.reset_index(drop=True)\n",
    "y_train.head()"
   ]
  },
  {
   "cell_type": "markdown",
   "metadata": {
    "id": "aeb8AyarGSNF"
   },
   "source": [
    "Fit logistic regression model and calculate accuracy using the train data.  Use 2000 for the maximum number of iterations."
   ]
  },
  {
   "cell_type": "code",
   "execution_count": 14,
   "metadata": {
    "id": "fXbaeNHpEzRX",
    "scrolled": false
   },
   "outputs": [
    {
     "data": {
      "text/plain": [
       "0.9405830182847088"
      ]
     },
     "execution_count": 14,
     "metadata": {},
     "output_type": "execute_result"
    }
   ],
   "source": [
    "my_lr = LogisticRegression(max_iter=400).fit(X_train, y_train)\n",
    "lr_pred_train = my_lr.predict(X_train)\n",
    "metrics.accuracy_score(y_train, lr_pred_train)"
   ]
  },
  {
   "cell_type": "markdown",
   "metadata": {
    "id": "nQyLY_aMcA7v"
   },
   "source": [
    "Calculate accuracy using the test data.\n",
    "\n"
   ]
  },
  {
   "cell_type": "code",
   "execution_count": 15,
   "metadata": {
    "id": "CkkJVRaeVAIn"
   },
   "outputs": [
    {
     "data": {
      "text/plain": [
       "0.94"
      ]
     },
     "execution_count": 15,
     "metadata": {},
     "output_type": "execute_result"
    }
   ],
   "source": [
    "lr_pred_test = my_lr.predict(X_test)\n",
    "metrics.accuracy_score(y_test, lr_pred_test)"
   ]
  },
  {
   "cell_type": "markdown",
   "metadata": {
    "id": "TFaynlDbcIj4"
   },
   "source": [
    "Create a confusion matrix for the test data."
   ]
  },
  {
   "cell_type": "code",
   "execution_count": 16,
   "metadata": {
    "id": "5W5LqdvEWx8X"
   },
   "outputs": [
    {
     "data": {
      "text/plain": [
       "array([[  7,  60],\n",
       "       [  0, 933]], dtype=int64)"
      ]
     },
     "execution_count": 16,
     "metadata": {},
     "output_type": "execute_result"
    }
   ],
   "source": [
    "metrics.confusion_matrix(y_test, lr_pred_test)"
   ]
  },
  {
   "cell_type": "markdown",
   "metadata": {
    "id": "LptgO64UhlkH"
   },
   "source": [
    "Fit decision tree model and calculate accuracy on the train data."
   ]
  },
  {
   "cell_type": "code",
   "execution_count": null,
   "metadata": {
    "id": "DGM3RZ6xY2sW"
   },
   "outputs": [],
   "source": []
  },
  {
   "cell_type": "markdown",
   "metadata": {
    "id": "yq-OA4eSkM4S"
   },
   "source": [
    "Make predictions using test data."
   ]
  },
  {
   "cell_type": "code",
   "execution_count": null,
   "metadata": {
    "id": "jeFboHFakRFD"
   },
   "outputs": [],
   "source": []
  },
  {
   "cell_type": "markdown",
   "metadata": {
    "id": "Ap50H-k1kyAU"
   },
   "source": [
    "Create a confusion matrix for the test data."
   ]
  },
  {
   "cell_type": "code",
   "execution_count": null,
   "metadata": {
    "id": "ch5AXMfMkBNu"
   },
   "outputs": [],
   "source": []
  }
 ],
 "metadata": {
  "colab": {
   "authorship_tag": "ABX9TyOe2Bxt1O0c8soUbNVs6VG0",
   "collapsed_sections": [],
   "provenance": [
    {
     "file_id": "1RyxxHSXIXz38QZEw49M2vzP9Zn8oE-6D",
     "timestamp": 1663872135244
    },
    {
     "file_id": "1T0f4NxfSlrnk8ybbV5OIG1J9o2vXnm6t",
     "timestamp": 1663188932081
    }
   ]
  },
  "kernelspec": {
   "display_name": "Python 3 (ipykernel)",
   "language": "python",
   "name": "python3"
  },
  "language_info": {
   "codemirror_mode": {
    "name": "ipython",
    "version": 3
   },
   "file_extension": ".py",
   "mimetype": "text/x-python",
   "name": "python",
   "nbconvert_exporter": "python",
   "pygments_lexer": "ipython3",
   "version": "3.9.12"
  }
 },
 "nbformat": 4,
 "nbformat_minor": 1
}
