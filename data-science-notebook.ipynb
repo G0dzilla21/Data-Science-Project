{
 "cells": [
  {
   "cell_type": "markdown",
   "metadata": {
    "id": "yEKmqQ11EYoA"
   },
   "source": [
    "# Retail Store Data"
   ]
  },
  {
   "cell_type": "markdown",
   "metadata": {
    "id": "mn7fPfaMEckf"
   },
   "source": [
    "Import pandas, seaborn, and matplotlib."
   ]
  },
  {
   "cell_type": "code",
   "execution_count": 1,
   "metadata": {
    "id": "ytR66kXR5yiv"
   },
   "outputs": [],
   "source": [
    "import pandas as pd\n",
    "import seaborn as sb\n",
    "import numpy as np\n",
    "import matplotlib.pyplot as plt\n",
    "from matplotlib import style\n",
    "from sklearn import metrics\n",
    "from sklearn.linear_model import LogisticRegression\n",
    "from sklearn.tree import DecisionTreeClassifier\n",
    "from sklearn.model_selection import train_test_split\n",
    "from sklearn.preprocessing import scale\n",
    "from collections import Counter\n",
    "%matplotlib inline"
   ]
  },
  {
   "cell_type": "markdown",
   "metadata": {
    "id": "hNUG4-YvEgWw"
   },
   "source": [
    "Read the train data.  "
   ]
  },
  {
   "cell_type": "code",
   "execution_count": 2,
   "metadata": {
    "id": "tdiO_Ru25-uP"
   },
   "outputs": [],
   "source": [
    "features = pd.read_csv(\"features.csv\",\n",
    "                     sep=\",\",  # delimiter\n",
    "                     header=0, # header in first row\n",
    "                     index_col=0 # ids in first column\n",
    "                     )\n",
    "sales = pd.read_csv(\"sales.csv\",\n",
    "                     sep=\",\",  # delimiter\n",
    "                     header=0, # header in first row\n",
    "                     index_col=0 # ids in first column\n",
    "                     )\n",
    "\n",
    "\n",
    "stores = pd.read_csv(\"stores.csv\",\n",
    "                     sep=\",\",  # delimiter\n",
    "                     header=0, # header in first row\n",
    "                     index_col=0 # ids in first column\n",
    "                     )"
   ]
  },
  {
   "cell_type": "markdown",
   "metadata": {
    "id": "hNUG4-YvEgWw"
   },
   "source": [
    "We want to look at our data and see where the nulls are if there are any"
   ]
  },
  {
   "cell_type": "code",
   "execution_count": 3,
   "metadata": {
    "scrolled": true
   },
   "outputs": [
    {
     "data": {
      "text/html": [
       "<div>\n",
       "<style scoped>\n",
       "    .dataframe tbody tr th:only-of-type {\n",
       "        vertical-align: middle;\n",
       "    }\n",
       "\n",
       "    .dataframe tbody tr th {\n",
       "        vertical-align: top;\n",
       "    }\n",
       "\n",
       "    .dataframe thead th {\n",
       "        text-align: right;\n",
       "    }\n",
       "</style>\n",
       "<table border=\"1\" class=\"dataframe\">\n",
       "  <thead>\n",
       "    <tr style=\"text-align: right;\">\n",
       "      <th></th>\n",
       "      <th>Date</th>\n",
       "      <th>Temperature</th>\n",
       "      <th>Fuel_Price</th>\n",
       "      <th>MarkDown1</th>\n",
       "      <th>MarkDown2</th>\n",
       "      <th>MarkDown3</th>\n",
       "      <th>MarkDown4</th>\n",
       "      <th>MarkDown5</th>\n",
       "      <th>CPI</th>\n",
       "      <th>Unemployment</th>\n",
       "      <th>IsHoliday</th>\n",
       "    </tr>\n",
       "  </thead>\n",
       "  <tbody>\n",
       "    <tr>\n",
       "      <th>count</th>\n",
       "      <td>8190</td>\n",
       "      <td>8190.000000</td>\n",
       "      <td>8190.000000</td>\n",
       "      <td>4032.000000</td>\n",
       "      <td>2921.000000</td>\n",
       "      <td>3613.000000</td>\n",
       "      <td>3464.000000</td>\n",
       "      <td>4050.000000</td>\n",
       "      <td>7605.000000</td>\n",
       "      <td>7605.000000</td>\n",
       "      <td>8190</td>\n",
       "    </tr>\n",
       "    <tr>\n",
       "      <th>unique</th>\n",
       "      <td>182</td>\n",
       "      <td>NaN</td>\n",
       "      <td>NaN</td>\n",
       "      <td>NaN</td>\n",
       "      <td>NaN</td>\n",
       "      <td>NaN</td>\n",
       "      <td>NaN</td>\n",
       "      <td>NaN</td>\n",
       "      <td>NaN</td>\n",
       "      <td>NaN</td>\n",
       "      <td>2</td>\n",
       "    </tr>\n",
       "    <tr>\n",
       "      <th>top</th>\n",
       "      <td>05/02/2010</td>\n",
       "      <td>NaN</td>\n",
       "      <td>NaN</td>\n",
       "      <td>NaN</td>\n",
       "      <td>NaN</td>\n",
       "      <td>NaN</td>\n",
       "      <td>NaN</td>\n",
       "      <td>NaN</td>\n",
       "      <td>NaN</td>\n",
       "      <td>NaN</td>\n",
       "      <td>False</td>\n",
       "    </tr>\n",
       "    <tr>\n",
       "      <th>freq</th>\n",
       "      <td>45</td>\n",
       "      <td>NaN</td>\n",
       "      <td>NaN</td>\n",
       "      <td>NaN</td>\n",
       "      <td>NaN</td>\n",
       "      <td>NaN</td>\n",
       "      <td>NaN</td>\n",
       "      <td>NaN</td>\n",
       "      <td>NaN</td>\n",
       "      <td>NaN</td>\n",
       "      <td>7605</td>\n",
       "    </tr>\n",
       "    <tr>\n",
       "      <th>mean</th>\n",
       "      <td>NaN</td>\n",
       "      <td>59.356198</td>\n",
       "      <td>3.405992</td>\n",
       "      <td>7032.371786</td>\n",
       "      <td>3384.176594</td>\n",
       "      <td>1760.100180</td>\n",
       "      <td>3292.935886</td>\n",
       "      <td>4132.216422</td>\n",
       "      <td>172.460809</td>\n",
       "      <td>7.826821</td>\n",
       "      <td>NaN</td>\n",
       "    </tr>\n",
       "    <tr>\n",
       "      <th>std</th>\n",
       "      <td>NaN</td>\n",
       "      <td>18.678607</td>\n",
       "      <td>0.431337</td>\n",
       "      <td>9262.747448</td>\n",
       "      <td>8793.583016</td>\n",
       "      <td>11276.462208</td>\n",
       "      <td>6792.329861</td>\n",
       "      <td>13086.690278</td>\n",
       "      <td>39.738346</td>\n",
       "      <td>1.877259</td>\n",
       "      <td>NaN</td>\n",
       "    </tr>\n",
       "    <tr>\n",
       "      <th>min</th>\n",
       "      <td>NaN</td>\n",
       "      <td>-7.290000</td>\n",
       "      <td>2.472000</td>\n",
       "      <td>-2781.450000</td>\n",
       "      <td>-265.760000</td>\n",
       "      <td>-179.260000</td>\n",
       "      <td>0.220000</td>\n",
       "      <td>-185.170000</td>\n",
       "      <td>126.064000</td>\n",
       "      <td>3.684000</td>\n",
       "      <td>NaN</td>\n",
       "    </tr>\n",
       "    <tr>\n",
       "      <th>25%</th>\n",
       "      <td>NaN</td>\n",
       "      <td>45.902500</td>\n",
       "      <td>3.041000</td>\n",
       "      <td>1577.532500</td>\n",
       "      <td>68.880000</td>\n",
       "      <td>6.600000</td>\n",
       "      <td>304.687500</td>\n",
       "      <td>1440.827500</td>\n",
       "      <td>132.364839</td>\n",
       "      <td>6.634000</td>\n",
       "      <td>NaN</td>\n",
       "    </tr>\n",
       "    <tr>\n",
       "      <th>50%</th>\n",
       "      <td>NaN</td>\n",
       "      <td>60.710000</td>\n",
       "      <td>3.513000</td>\n",
       "      <td>4743.580000</td>\n",
       "      <td>364.570000</td>\n",
       "      <td>36.260000</td>\n",
       "      <td>1176.425000</td>\n",
       "      <td>2727.135000</td>\n",
       "      <td>182.764003</td>\n",
       "      <td>7.806000</td>\n",
       "      <td>NaN</td>\n",
       "    </tr>\n",
       "    <tr>\n",
       "      <th>75%</th>\n",
       "      <td>NaN</td>\n",
       "      <td>73.880000</td>\n",
       "      <td>3.743000</td>\n",
       "      <td>8923.310000</td>\n",
       "      <td>2153.350000</td>\n",
       "      <td>163.150000</td>\n",
       "      <td>3310.007500</td>\n",
       "      <td>4832.555000</td>\n",
       "      <td>213.932412</td>\n",
       "      <td>8.567000</td>\n",
       "      <td>NaN</td>\n",
       "    </tr>\n",
       "    <tr>\n",
       "      <th>max</th>\n",
       "      <td>NaN</td>\n",
       "      <td>101.950000</td>\n",
       "      <td>4.468000</td>\n",
       "      <td>103184.980000</td>\n",
       "      <td>104519.540000</td>\n",
       "      <td>149483.310000</td>\n",
       "      <td>67474.850000</td>\n",
       "      <td>771448.100000</td>\n",
       "      <td>228.976456</td>\n",
       "      <td>14.313000</td>\n",
       "      <td>NaN</td>\n",
       "    </tr>\n",
       "  </tbody>\n",
       "</table>\n",
       "</div>"
      ],
      "text/plain": [
       "              Date  Temperature   Fuel_Price      MarkDown1      MarkDown2  \\\n",
       "count         8190  8190.000000  8190.000000    4032.000000    2921.000000   \n",
       "unique         182          NaN          NaN            NaN            NaN   \n",
       "top     05/02/2010          NaN          NaN            NaN            NaN   \n",
       "freq            45          NaN          NaN            NaN            NaN   \n",
       "mean           NaN    59.356198     3.405992    7032.371786    3384.176594   \n",
       "std            NaN    18.678607     0.431337    9262.747448    8793.583016   \n",
       "min            NaN    -7.290000     2.472000   -2781.450000    -265.760000   \n",
       "25%            NaN    45.902500     3.041000    1577.532500      68.880000   \n",
       "50%            NaN    60.710000     3.513000    4743.580000     364.570000   \n",
       "75%            NaN    73.880000     3.743000    8923.310000    2153.350000   \n",
       "max            NaN   101.950000     4.468000  103184.980000  104519.540000   \n",
       "\n",
       "            MarkDown3     MarkDown4      MarkDown5          CPI  Unemployment  \\\n",
       "count     3613.000000   3464.000000    4050.000000  7605.000000   7605.000000   \n",
       "unique            NaN           NaN            NaN          NaN           NaN   \n",
       "top               NaN           NaN            NaN          NaN           NaN   \n",
       "freq              NaN           NaN            NaN          NaN           NaN   \n",
       "mean      1760.100180   3292.935886    4132.216422   172.460809      7.826821   \n",
       "std      11276.462208   6792.329861   13086.690278    39.738346      1.877259   \n",
       "min       -179.260000      0.220000    -185.170000   126.064000      3.684000   \n",
       "25%          6.600000    304.687500    1440.827500   132.364839      6.634000   \n",
       "50%         36.260000   1176.425000    2727.135000   182.764003      7.806000   \n",
       "75%        163.150000   3310.007500    4832.555000   213.932412      8.567000   \n",
       "max     149483.310000  67474.850000  771448.100000   228.976456     14.313000   \n",
       "\n",
       "       IsHoliday  \n",
       "count       8190  \n",
       "unique         2  \n",
       "top        False  \n",
       "freq        7605  \n",
       "mean         NaN  \n",
       "std          NaN  \n",
       "min          NaN  \n",
       "25%          NaN  \n",
       "50%          NaN  \n",
       "75%          NaN  \n",
       "max          NaN  "
      ]
     },
     "execution_count": 3,
     "metadata": {},
     "output_type": "execute_result"
    }
   ],
   "source": [
    "features.describe(include=\"all\",datetime_is_numeric=True)"
   ]
  },
  {
   "cell_type": "code",
   "execution_count": 4,
   "metadata": {
    "scrolled": true
   },
   "outputs": [
    {
     "name": "stdout",
     "output_type": "stream",
     "text": [
      "       Dept        Date  Weekly_Sales  IsHoliday\n",
      "Store                                           \n",
      "45       98  28/09/2012        508.37      False\n",
      "45       98  05/10/2012        628.10      False\n",
      "45       98  12/10/2012       1061.02      False\n",
      "45       98  19/10/2012        760.01      False\n",
      "45       98  26/10/2012       1076.80      False\n"
     ]
    }
   ],
   "source": [
    "print(sales.tail())"
   ]
  },
  {
   "cell_type": "code",
   "execution_count": 5,
   "metadata": {},
   "outputs": [
    {
     "name": "stdout",
     "output_type": "stream",
     "text": [
      "             Date  Temperature  Fuel_Price  MarkDown1  MarkDown2  MarkDown3  \\\n",
      "Store                                                                         \n",
      "45     28/06/2013        76.05       3.639    4842.29     975.03       3.00   \n",
      "45     05/07/2013        77.50       3.614    9090.48    2268.58     582.74   \n",
      "45     12/07/2013        79.37       3.614    3789.94    1827.31      85.72   \n",
      "45     19/07/2013        82.84       3.737    2961.49    1047.07     204.19   \n",
      "45     26/07/2013        76.06       3.804     212.02     851.73       2.06   \n",
      "\n",
      "       MarkDown4  MarkDown5  CPI  Unemployment  IsHoliday  \n",
      "Store                                                      \n",
      "45       2449.97    3169.69  NaN           NaN      False  \n",
      "45       5797.47    1514.93  NaN           NaN      False  \n",
      "45        744.84    2150.36  NaN           NaN      False  \n",
      "45        363.00    1059.46  NaN           NaN      False  \n",
      "45         10.88    1864.57  NaN           NaN      False  \n"
     ]
    }
   ],
   "source": [
    "print(features.tail())"
   ]
  },
  {
   "cell_type": "code",
   "execution_count": 6,
   "metadata": {
    "scrolled": false
   },
   "outputs": [
    {
     "name": "stdout",
     "output_type": "stream",
     "text": [
      "      Type    Size\n",
      "Store             \n",
      "41       A  196321\n",
      "42       C   39690\n",
      "43       C   41062\n",
      "44       C   39910\n",
      "45       B  118221\n"
     ]
    }
   ],
   "source": [
    "print(stores.tail())"
   ]
  },
  {
   "cell_type": "markdown",
   "metadata": {
    "id": "hNUG4-YvEgWw"
   },
   "source": [
    "Convert dates to the correct data type"
   ]
  },
  {
   "cell_type": "code",
   "execution_count": 7,
   "metadata": {
    "scrolled": true
   },
   "outputs": [
    {
     "name": "stdout",
     "output_type": "stream",
     "text": [
      "Store\n",
      "1    2010-02-05\n",
      "1    2010-02-12\n",
      "1    2010-02-19\n",
      "1    2010-02-26\n",
      "1    2010-03-05\n",
      "        ...    \n",
      "45   2013-06-28\n",
      "45   2013-07-05\n",
      "45   2013-07-12\n",
      "45   2013-07-19\n",
      "45   2013-07-26\n",
      "Name: Date, Length: 8190, dtype: datetime64[ns] Store\n",
      "1    2010-02-05\n",
      "1    2010-02-12\n",
      "1    2010-02-19\n",
      "1    2010-02-26\n",
      "1    2010-03-05\n",
      "        ...    \n",
      "45   2012-09-28\n",
      "45   2012-10-05\n",
      "45   2012-10-12\n",
      "45   2012-10-19\n",
      "45   2012-10-26\n",
      "Name: Date, Length: 421570, dtype: datetime64[ns]\n"
     ]
    }
   ],
   "source": [
    "#Lets convert the dates to the right data type\n",
    "features['Date'] = pd.to_datetime(features['Date'], format='%d/%m/%Y')\n",
    "sales['Date'] = pd.to_datetime(sales['Date'], format='%d/%m/%Y')\n",
    "#now lets make sure they converted correctly\n",
    "print(features['Date'] ,sales['Date'])"
   ]
  },
  {
   "cell_type": "markdown",
   "metadata": {},
   "source": [
    "Lets begin making some observations on the current data"
   ]
  },
  {
   "cell_type": "code",
   "execution_count": 32,
   "metadata": {},
   "outputs": [
    {
     "data": {
      "text/plain": [
       "'\\n#since our store type is in the stores table and sales in the sales table we will need to do a merge\\ndata_table = pd.merge(features,sales_date_store ,  how=\\'left\\', on=[\"Date\",\"Store\"])\\ndata_table = pd.merge(data_table,stores[[\"Store\",\"Type\"]] ,  how=\\'left\\', on=[\"Store\"])\\ndata_table.head(20)\\n#we can now set our train and test variables\\ndata_train = data_table[data_table.Weekly_Sales.notnull()]\\ndata_test = data_table[data_table.Weekly_Sales.isnull()]\\n'"
      ]
     },
     "execution_count": 32,
     "metadata": {},
     "output_type": "execute_result"
    }
   ],
   "source": [
    "\n",
    "stores = stores.reset_index()\n",
    "\n",
    "#I want to see overall how each store type is doing by data. We will need to do a groupby\n",
    "sales_date_store = sales.groupby([\"Date\",\"Store\"]).agg({\"Weekly_Sales\":\"sum\"})\n",
    "sales_date_store.sort_index(inplace=True)\n",
    "#lets convert our weekly_sales to a number that will be readable in the visualization (millions)\n",
    "sales_date_store.Weekly_Sales = sales_date_store.Weekly_Sales/10000\n",
    "#we won't need the cent amount so we can convert it from a float to an int\n",
    "sales_date_store.Weekly_Sales = sales_date_store.Weekly_Sales.apply(int)\n",
    "sales_date_store\n",
    "'''\n",
    "#since our store type is in the stores table and sales in the sales table we will need to do a merge\n",
    "data_table = pd.merge(features,sales_date_store ,  how='left', on=[\"Date\",\"Store\"])\n",
    "data_table = pd.merge(data_table,stores[[\"Store\",\"Type\"]] ,  how='left', on=[\"Store\"])\n",
    "data_table.head(20)\n",
    "#we can now set our train and test variables\n",
    "data_train = data_table[data_table.Weekly_Sales.notnull()]\n",
    "data_test = data_table[data_table.Weekly_Sales.isnull()]\n",
    "'''"
   ]
  },
  {
   "cell_type": "code",
   "execution_count": 9,
   "metadata": {
    "scrolled": true
   },
   "outputs": [
    {
     "data": {
      "text/plain": [
       "<AxesSubplot:xlabel='Date', ylabel='Weekly_Sales'>"
      ]
     },
     "execution_count": 9,
     "metadata": {},
     "output_type": "execute_result"
    },
    {
     "data": {
      "image/png": "[encoded data removed]",
      "text/plain": [
       "<Figure size 1080x360 with 1 Axes>"
      ]
     },
     "metadata": {
      "needs_background": "light"
     },
     "output_type": "display_data"
    }
   ],
   "source": [
    "plt.figure(figsize=(15, 5))\n",
    "sb.barplot(x=data_train.Date.dt.year, y=data_train.Weekly_Sales,hue=data_train.Type)"
   ]
  },
  {
   "cell_type": "code",
   "execution_count": 10,
   "metadata": {},
   "outputs": [
    {
     "data": {
      "text/plain": [
       "'Store Type A & B has shown slight decrease year on basis in sales.\\nStore C has shown a slight increase in sales.'"
      ]
     },
     "execution_count": 10,
     "metadata": {},
     "output_type": "execute_result"
    }
   ],
   "source": [
    "\"\"\"Store Type A & B has shown slight decrease year on basis in sales.\n",
    "Store C has shown a slight increase in sales.\"\"\""
   ]
  },
  {
   "cell_type": "code",
   "execution_count": 11,
   "metadata": {},
   "outputs": [],
   "source": [
    "#now lets see how each store type is doing overall\n",
    "\n",
    "#we must do a groupby on each store# and aggregate by the correct function for each column\n",
    "data_Store = features.groupby(\"Store\").agg({\"Temperature\":\"mean\",\"Fuel_Price\":\"mean\",\"IsHoliday\":\"sum\"})\n",
    "temp_store = sales.groupby(\"Store\").agg({\"Weekly_Sales\":\"sum\"})\n",
    "#again converting our weekly sales into a readable number for our visualization\n",
    "temp_store.Weekly_Sales = temp_store.Weekly_Sales/1000000\n",
    "temp_store.Weekly_Sales = temp_store.Weekly_Sales.apply(int)\n",
    "data_Store.set_index(np.arange(0,45),inplace=True)\n",
    "stores[\"temp\"] = data_Store.Temperature\n",
    "stores[\"Fuel_Price\"] = data_Store.Fuel_Price\n",
    "stores[\"holiday\"] = data_Store.IsHoliday\n",
    "stores[\"Weekly_Sales\"] = temp_store.Weekly_Sales"
   ]
  },
  {
   "cell_type": "code",
   "execution_count": 12,
   "metadata": {
    "scrolled": true
   },
   "outputs": [
    {
     "name": "stderr",
     "output_type": "stream",
     "text": [
      "C:\\ProgramData\\Anaconda3\\lib\\site-packages\\seaborn\\_decorators.py:36: FutureWarning: Pass the following variable as a keyword arg: x. From version 0.12, the only valid positional argument will be `data`, and passing other arguments without an explicit keyword will result in an error or misinterpretation.\n",
      "  warnings.warn(\n"
     ]
    },
    {
     "data": {
      "text/plain": [
       "<AxesSubplot:xlabel='Type', ylabel='Weekly_Sales'>"
      ]
     },
     "execution_count": 12,
     "metadata": {},
     "output_type": "execute_result"
    },
    {
     "data": {
      "image/png": "[encoded data removed]",
      "text/plain": [
       "<Figure size 1080x288 with 3 Axes>"
      ]
     },
     "metadata": {
      "needs_background": "light"
     },
     "output_type": "display_data"
    }
   ],
   "source": [
    "fig,ax = plt.subplots(1,3,figsize=(15, 4))\n",
    "sb.countplot(stores.Type,ax=ax[0])\n",
    "sb.swarmplot(data = stores,y=\"Size\",x=\"Type\",ax=ax[1])\n",
    "\n",
    "sb.boxplot(data = stores,y=\"Weekly_Sales\",x=\"Type\",ax=ax[2])"
   ]
  },
  {
   "cell_type": "code",
   "execution_count": 13,
   "metadata": {},
   "outputs": [
    {
     "data": {
      "text/plain": [
       "'Out of 45 total stores, Store Count is in the order of A, B and least is C\\nSize wise A store as most no of Item followed by B and than C\\nEven After less Count of Store and lesser Size B has more Weekly Sales than A and C at the least.'"
      ]
     },
     "execution_count": 13,
     "metadata": {},
     "output_type": "execute_result"
    }
   ],
   "source": [
    "'''Out of 45 total stores, Store Count is in the order of A, B and least is C\n",
    "Size wise A store as most no of Item followed by B and than C\n",
    "Even After less Count of Store and lesser Size B has more Weekly Sales than A and C at the least.'''"
   ]
  },
  {
   "cell_type": "code",
   "execution_count": 14,
   "metadata": {},
   "outputs": [],
   "source": [
    "'''\n",
    "lets Merge Feature tables and sales tables based on the date\n",
    "we will convert WeeklySales in Millions\n",
    "we will modify column as the day is holiday or not\n",
    "'''\n",
    "\n",
    "data_date = features.groupby(\"Date\").agg({\"Temperature\":\"mean\"\n",
    "                                            ,\"Fuel_Price\":\"mean\"\n",
    "                                            ,\"IsHoliday\":\"sum\"\n",
    "                                            ,\"CPI\":\"mean\"\n",
    "                                           ,\"Unemployment\":\"mean\"})\n",
    "data_date = data_date.sort_index()\n",
    "temp_date_data = data_date[:'2012-12-10']\n",
    "\n",
    "data_sales_date = sales.groupby(\"Date\").agg({\"Weekly_Sales\":\"sum\"})\n",
    "data_sales_date.sort_index(inplace=True)\n",
    "data_sales_date.Weekly_Sales = data_sales_date.Weekly_Sales/1000000\n",
    "data_sales_date.Weekly_Sales = data_sales_date.Weekly_Sales.apply(int)\n",
    "data = pd.merge(data_sales_date, temp_date_data, left_index=True,right_index=True, how='left')\n",
    "data[\"IsHoliday\"] = data[\"IsHoliday\"].apply(lambda x: True if x == 45.0 else False )\n"
   ]
  },
  {
   "cell_type": "code",
   "execution_count": 15,
   "metadata": {},
   "outputs": [
    {
     "data": {
      "text/plain": [
       "<AxesSubplot:title={'center':'Unemployment'}, xlabel='Date'>"
      ]
     },
     "execution_count": 15,
     "metadata": {},
     "output_type": "execute_result"
    },
    {
     "data": {
      "image/png": "[encoded data removed]",
      "text/plain": [
       "<Figure size 1080x720 with 5 Axes>"
      ]
     },
     "metadata": {},
     "output_type": "display_data"
    }
   ],
   "source": [
    "plt.style.use('fivethirtyeight')\n",
    "#plt.figure(figsize=(15,4))\n",
    "fig, ax = plt.subplots(5,1,figsize=(15,10),sharex=True) \n",
    "data[\"Weekly_Sales\"].plot(ax=ax[0],title=\"Total Weekly Sales in millions / sales on Holiday\")\n",
    "data[data.IsHoliday==True][\"Weekly_Sales\"].plot(marker=\"D\",ax=ax[0],legend=\"Holiday Week sale\")\n",
    "data[\"Temperature\"].plot(ax=ax[1], title=\"Temperature\")\n",
    "data[\"Fuel_Price\"].plot(ax=ax[2],title=\"Fuel_Price\")\n",
    "data[\"CPI\"].plot(ax=ax[3],title=\"CPI\")\n",
    "data[\"Unemployment\"].plot(ax=ax[4],title=\"Unemployment\")\n"
   ]
  },
  {
   "cell_type": "code",
   "execution_count": 16,
   "metadata": {},
   "outputs": [
    {
     "data": {
      "text/plain": [
       "'\\nNov- Dec shows spike in Weekly Sales.but over the year it is not increased.\\nweeks nearby holiday shows peak\\nFuel Price and Consumer Price Index shown growth over the year.\\nUnemployment decreased year after year.\\nTemperature is showing a random walk\\n'"
      ]
     },
     "execution_count": 16,
     "metadata": {},
     "output_type": "execute_result"
    }
   ],
   "source": [
    "'''\n",
    "Nov- Dec shows spike in Weekly Sales.but over the year it is not increased.\n",
    "weeks nearby holiday shows peak\n",
    "Fuel Price and Consumer Price Index shown growth over the year.\n",
    "Unemployment decreased year after year.\n",
    "Temperature is showing a random walk\n",
    "'''"
   ]
  },
  {
   "cell_type": "code",
   "execution_count": 17,
   "metadata": {},
   "outputs": [
    {
     "data": {
      "text/plain": [
       "<AxesSubplot:>"
      ]
     },
     "execution_count": 17,
     "metadata": {},
     "output_type": "execute_result"
    },
    {
     "data": {
      "image/png": "[encoded data removed]",
      "text/plain": [
       "<Figure size 432x288 with 2 Axes>"
      ]
     },
     "metadata": {},
     "output_type": "display_data"
    }
   ],
   "source": [
    "sb.heatmap(data.corr(),annot=True)"
   ]
  },
  {
   "cell_type": "code",
   "execution_count": 18,
   "metadata": {},
   "outputs": [
    {
     "data": {
      "text/plain": [
       "'\\nWeekly sales doesnot show any high correlation with any other parameters.\\nCPI and Unemployment shows negative correlation on other hand Fuel Price show positive correlation\\nUnemployment and Fuel price are also negatively correlated\\n'"
      ]
     },
     "execution_count": 18,
     "metadata": {},
     "output_type": "execute_result"
    }
   ],
   "source": [
    "'''\n",
    "Weekly sales doesnot show any high correlation with any other parameters.\n",
    "CPI and Unemployment shows negative correlation on other hand Fuel Price show positive correlation\n",
    "Unemployment and Fuel price are also negatively correlated\n",
    "'''"
   ]
  },
  {
   "cell_type": "code",
   "execution_count": 19,
   "metadata": {},
   "outputs": [
    {
     "data": {
      "text/plain": [
       "Text(0, 0.5, 'Sales (Million)')"
      ]
     },
     "execution_count": 19,
     "metadata": {},
     "output_type": "execute_result"
    },
    {
     "data": {
      "image/png": "[encoded data removed]",
      "text/plain": [
       "<Figure size 720x360 with 1 Axes>"
      ]
     },
     "metadata": {},
     "output_type": "display_data"
    }
   ],
   "source": [
    "data_sales_month = data.groupby(data.index.month).agg({\"Weekly_Sales\":\"sum\"})\n",
    "plt.figure(figsize=(10, 5))\n",
    "sb.barplot(x=data_sales_month.index,y=data_sales_month.Weekly_Sales)\n",
    "plt.title(\"Month wise Sales\")\n",
    "plt.xlabel(\"Month\")\n",
    "plt.ylabel(\"Sales (Million)\")"
   ]
  },
  {
   "cell_type": "code",
   "execution_count": 20,
   "metadata": {},
   "outputs": [
    {
     "data": {
      "text/plain": [
       "'\\nIt could be as Enough buying during offer and holidays (Black friday Sales,Chrismas,New year) and later sales go down and then again gaining momentum in some months.\\nIn Nov also people show less buying can be waiting period for upcoming sales.\\nwhole data for Dec-2013 I guess is not available so even after spike in Dec the sales are not gone very high.\\n'"
      ]
     },
     "execution_count": 20,
     "metadata": {},
     "output_type": "execute_result"
    }
   ],
   "source": [
    "'''\n",
    "It could be as Enough buying during offer and holidays (Black friday Sales,Chrismas,New year) and later sales go down and then again gaining momentum in some months.\n",
    "In Nov also people show less buying can be waiting period for upcoming sales.\n",
    "whole data for Dec-2013 I guess is not available so even after spike in Dec the sales are not gone very high.\n",
    "'''"
   ]
  },
  {
   "cell_type": "code",
   "execution_count": 21,
   "metadata": {},
   "outputs": [
    {
     "data": {
      "text/plain": [
       "Text(0, 0.5, 'Sales')"
      ]
     },
     "execution_count": 21,
     "metadata": {},
     "output_type": "execute_result"
    },
    {
     "data": {
      "image/png": "[encoded data removed]",
      "text/plain": [
       "<Figure size 432x288 with 1 Axes>"
      ]
     },
     "metadata": {},
     "output_type": "display_data"
    }
   ],
   "source": [
    "data_sales_year = data.groupby(data.index.year).agg({\"Weekly_Sales\":\"sum\"})\n",
    "\n",
    "sb.barplot(x=data_sales_year.index,y=data_sales_year.Weekly_Sales)\n",
    "plt.title(\"Total Store Sales\")\n",
    "plt.xlabel(\"Year\")\n",
    "plt.ylabel(\"Sales\")"
   ]
  },
  {
   "cell_type": "code",
   "execution_count": null,
   "metadata": {},
   "outputs": [],
   "source": []
  },
  {
   "cell_type": "code",
   "execution_count": null,
   "metadata": {},
   "outputs": [],
   "source": []
  },
  {
   "cell_type": "markdown",
   "metadata": {
    "id": "hNUG4-YvEgWw"
   },
   "source": [
    "Now lets merge all of our tables"
   ]
  },
  {
   "cell_type": "code",
   "execution_count": 22,
   "metadata": {},
   "outputs": [],
   "source": [
    "#first merge\n",
    "retail_df=pd.merge(sales,features, on=['Store','Date', 'IsHoliday'], how='left')\n",
    "#second_merge\n",
    "retail_df=pd.merge(retail_df,stores, on=['Store'], how='left')\n",
    "retail_df=retail_df.reset_index()\n",
    "#Explanation below"
   ]
  },
  {
   "cell_type": "markdown",
   "metadata": {
    "id": "hNUG4-YvEgWw"
   },
   "source": [
    "Merge Explanation:\n",
    "First, we want to match on the store#, date, and holiday since they are the same for each record in\n",
    "both tables \"sales\" and \"features\" (becomes composite primary key in the merged table). We want to do a left join to include all records from the left table and only the matched records from the right because we want the records for each weekly_sales number in every department and this will also display our records with the nulls from the right table. We then want to add on the stores database by merging it onto the database I had just created \"retail_df\" with another left merge. This will ensure that all records are included from \"retail_df\" as well as assign a store type and size to each record.\n"
   ]
  },
  {
   "cell_type": "markdown",
   "metadata": {},
   "source": [
    "Creating Aggregations for a more broad analysis & Writing out new csv DataFrames"
   ]
  },
  {
   "cell_type": "code",
   "execution_count": 23,
   "metadata": {},
   "outputs": [
    {
     "data": {
      "text/html": [
       "<div>\n",
       "<style scoped>\n",
       "    .dataframe tbody tr th:only-of-type {\n",
       "        vertical-align: middle;\n",
       "    }\n",
       "\n",
       "    .dataframe tbody tr th {\n",
       "        vertical-align: top;\n",
       "    }\n",
       "\n",
       "    .dataframe thead th {\n",
       "        text-align: right;\n",
       "    }\n",
       "</style>\n",
       "<table border=\"1\" class=\"dataframe\">\n",
       "  <thead>\n",
       "    <tr style=\"text-align: right;\">\n",
       "      <th></th>\n",
       "      <th>Dept</th>\n",
       "      <th>Date</th>\n",
       "      <th>Dept_Total_Sales</th>\n",
       "    </tr>\n",
       "  </thead>\n",
       "  <tbody>\n",
       "    <tr>\n",
       "      <th>0</th>\n",
       "      <td>1</td>\n",
       "      <td>2010-02-05</td>\n",
       "      <td>881833.41</td>\n",
       "    </tr>\n",
       "    <tr>\n",
       "      <th>1</th>\n",
       "      <td>1</td>\n",
       "      <td>2010-02-12</td>\n",
       "      <td>1457182.40</td>\n",
       "    </tr>\n",
       "    <tr>\n",
       "      <th>2</th>\n",
       "      <td>1</td>\n",
       "      <td>2010-02-19</td>\n",
       "      <td>1118257.36</td>\n",
       "    </tr>\n",
       "    <tr>\n",
       "      <th>3</th>\n",
       "      <td>1</td>\n",
       "      <td>2010-02-26</td>\n",
       "      <td>681391.58</td>\n",
       "    </tr>\n",
       "    <tr>\n",
       "      <th>4</th>\n",
       "      <td>1</td>\n",
       "      <td>2010-03-05</td>\n",
       "      <td>762652.57</td>\n",
       "    </tr>\n",
       "  </tbody>\n",
       "</table>\n",
       "</div>"
      ],
      "text/plain": [
       "   Dept        Date  Dept_Total_Sales\n",
       "0     1  2010-02-05         881833.41\n",
       "1     1  2010-02-12        1457182.40\n",
       "2     1  2010-02-19        1118257.36\n",
       "3     1  2010-02-26         681391.58\n",
       "4     1  2010-03-05         762652.57"
      ]
     },
     "execution_count": 23,
     "metadata": {},
     "output_type": "execute_result"
    }
   ],
   "source": [
    "#Now, I'm interested in Total Weekly_Sales by store rather than each specific department as well\n",
    "#I want to do a groupby of store by Date and display the summed up Weekly Sales\n",
    "sales = sales.reset_index()\n",
    "store_total_sales = sales.groupby([\"Store\",\"Date\"], as_index=False)['Weekly_Sales'].sum()\n",
    "#convert into df\n",
    "store_total_sales = pd.DataFrame(store_total_sales)\n",
    "#rename to Total_Weekly_Sales which represents all department sales for that week\n",
    "store_total_sales.rename(columns = {'Weekly_Sales':'Total_Weekly_Sales'}, inplace = True)\n",
    "#lets now output it to a csv\n",
    "totalsales_output = pd.DataFrame(store_total_sales)\n",
    "totalsales_output.to_csv(\"total_sales_by_store.csv\")\n",
    "\n",
    "#now we have a new csv with the Total_Weekly_Sales info, so we can read it back in\n",
    "storesales = pd.read_csv(\"total_sales_by_store.csv\",\n",
    "                     sep=\",\",  # delimiter\n",
    "                     header=0, # header in first row\n",
    "                     index_col=0 # ids in first column\n",
    "                     )\n",
    "\n",
    "#Now I want an overall idea of how my departments are doing across all stores each week\n",
    "dept_total_sales = sales.groupby([\"Dept\",\"Date\"], as_index=False)['Weekly_Sales'].sum()\n",
    "#convert into df\n",
    "dept_total_sales = pd.DataFrame(dept_total_sales)\n",
    "#rename to Dept_Total_Sales which represents total sales for each department across all stores\n",
    "#for that week\n",
    "dept_total_sales.rename(columns = {'Weekly_Sales':'Dept_Total_Sales'}, inplace = True)\n",
    "#lets now output it to a csv\n",
    "deptsales_output = pd.DataFrame(dept_total_sales)\n",
    "deptsales_output.to_csv(\"total_sales_by_dept.csv\")\n",
    "\n",
    "#now we have a new csv with the Dept_Total_Sales info, so we can read it back in\n",
    "deptsales = pd.read_csv(\"total_sales_by_dept.csv\",\n",
    "                     sep=\",\",  # delimiter\n",
    "                     header=0, # header in first row\n",
    "                     index_col=0 # ids in first column\n",
    "                       )\n",
    "#storesales.head()\n",
    "deptsales.head()\n",
    "\n",
    "#these will both come in handy later on when we are doing our visualizations"
   ]
  },
  {
   "cell_type": "markdown",
   "metadata": {
    "id": "hNUG4-YvEgWw"
   },
   "source": [
    "Convert categorical data to numerical, filling in missing data"
   ]
  },
  {
   "cell_type": "code",
   "execution_count": 24,
   "metadata": {
    "scrolled": true
   },
   "outputs": [],
   "source": [
    "#create new columns out of Date\n",
    "retail_df[\"Month\"] = retail_df.Date.dt.month\n",
    "retail_df[\"Year\"] = retail_df.Date.dt.year\n",
    "retail_df[\"WeekofYear\"] = retail_df.Date.dt.isocalendar().week\n",
    "#retail_df.drop(['Date'],axis=1,inplace=True)"
   ]
  },
  {
   "cell_type": "code",
   "execution_count": 30,
   "metadata": {},
   "outputs": [
    {
     "data": {
      "text/html": [
       "<div>\n",
       "<style scoped>\n",
       "    .dataframe tbody tr th:only-of-type {\n",
       "        vertical-align: middle;\n",
       "    }\n",
       "\n",
       "    .dataframe tbody tr th {\n",
       "        vertical-align: top;\n",
       "    }\n",
       "\n",
       "    .dataframe thead th {\n",
       "        text-align: right;\n",
       "    }\n",
       "</style>\n",
       "<table border=\"1\" class=\"dataframe\">\n",
       "  <thead>\n",
       "    <tr style=\"text-align: right;\">\n",
       "      <th></th>\n",
       "      <th>Store</th>\n",
       "      <th>Dept</th>\n",
       "      <th>Date</th>\n",
       "      <th>Weekly_Sales_x</th>\n",
       "      <th>IsHoliday</th>\n",
       "      <th>Temperature</th>\n",
       "      <th>Fuel_Price_x</th>\n",
       "      <th>MarkDown1</th>\n",
       "      <th>MarkDown2</th>\n",
       "      <th>MarkDown3</th>\n",
       "      <th>...</th>\n",
       "      <th>Unemployment</th>\n",
       "      <th>Type</th>\n",
       "      <th>Size</th>\n",
       "      <th>temp</th>\n",
       "      <th>Fuel_Price_y</th>\n",
       "      <th>holiday</th>\n",
       "      <th>Weekly_Sales_y</th>\n",
       "      <th>Month</th>\n",
       "      <th>Year</th>\n",
       "      <th>WeekofYear</th>\n",
       "    </tr>\n",
       "  </thead>\n",
       "  <tbody>\n",
       "    <tr>\n",
       "      <th>0</th>\n",
       "      <td>1</td>\n",
       "      <td>1</td>\n",
       "      <td>2010-02-05</td>\n",
       "      <td>24924.50</td>\n",
       "      <td>1</td>\n",
       "      <td>42.31</td>\n",
       "      <td>2.572</td>\n",
       "      <td>0.00</td>\n",
       "      <td>0.00</td>\n",
       "      <td>0.00</td>\n",
       "      <td>...</td>\n",
       "      <td>8.106</td>\n",
       "      <td>0</td>\n",
       "      <td>151315</td>\n",
       "      <td>66.912033</td>\n",
       "      <td>3.259242</td>\n",
       "      <td>13</td>\n",
       "      <td>NaN</td>\n",
       "      <td>2</td>\n",
       "      <td>2010</td>\n",
       "      <td>5</td>\n",
       "    </tr>\n",
       "    <tr>\n",
       "      <th>1</th>\n",
       "      <td>1</td>\n",
       "      <td>1</td>\n",
       "      <td>2010-02-12</td>\n",
       "      <td>46039.49</td>\n",
       "      <td>0</td>\n",
       "      <td>38.51</td>\n",
       "      <td>2.548</td>\n",
       "      <td>0.00</td>\n",
       "      <td>0.00</td>\n",
       "      <td>0.00</td>\n",
       "      <td>...</td>\n",
       "      <td>8.106</td>\n",
       "      <td>0</td>\n",
       "      <td>151315</td>\n",
       "      <td>66.912033</td>\n",
       "      <td>3.259242</td>\n",
       "      <td>13</td>\n",
       "      <td>NaN</td>\n",
       "      <td>2</td>\n",
       "      <td>2010</td>\n",
       "      <td>6</td>\n",
       "    </tr>\n",
       "    <tr>\n",
       "      <th>2</th>\n",
       "      <td>1</td>\n",
       "      <td>1</td>\n",
       "      <td>2010-02-19</td>\n",
       "      <td>41595.55</td>\n",
       "      <td>1</td>\n",
       "      <td>39.93</td>\n",
       "      <td>2.514</td>\n",
       "      <td>0.00</td>\n",
       "      <td>0.00</td>\n",
       "      <td>0.00</td>\n",
       "      <td>...</td>\n",
       "      <td>8.106</td>\n",
       "      <td>0</td>\n",
       "      <td>151315</td>\n",
       "      <td>66.912033</td>\n",
       "      <td>3.259242</td>\n",
       "      <td>13</td>\n",
       "      <td>NaN</td>\n",
       "      <td>2</td>\n",
       "      <td>2010</td>\n",
       "      <td>7</td>\n",
       "    </tr>\n",
       "    <tr>\n",
       "      <th>3</th>\n",
       "      <td>1</td>\n",
       "      <td>1</td>\n",
       "      <td>2010-02-26</td>\n",
       "      <td>19403.54</td>\n",
       "      <td>1</td>\n",
       "      <td>46.63</td>\n",
       "      <td>2.561</td>\n",
       "      <td>0.00</td>\n",
       "      <td>0.00</td>\n",
       "      <td>0.00</td>\n",
       "      <td>...</td>\n",
       "      <td>8.106</td>\n",
       "      <td>0</td>\n",
       "      <td>151315</td>\n",
       "      <td>66.912033</td>\n",
       "      <td>3.259242</td>\n",
       "      <td>13</td>\n",
       "      <td>NaN</td>\n",
       "      <td>2</td>\n",
       "      <td>2010</td>\n",
       "      <td>8</td>\n",
       "    </tr>\n",
       "    <tr>\n",
       "      <th>4</th>\n",
       "      <td>1</td>\n",
       "      <td>1</td>\n",
       "      <td>2010-03-05</td>\n",
       "      <td>21827.90</td>\n",
       "      <td>1</td>\n",
       "      <td>46.50</td>\n",
       "      <td>2.625</td>\n",
       "      <td>0.00</td>\n",
       "      <td>0.00</td>\n",
       "      <td>0.00</td>\n",
       "      <td>...</td>\n",
       "      <td>8.106</td>\n",
       "      <td>0</td>\n",
       "      <td>151315</td>\n",
       "      <td>66.912033</td>\n",
       "      <td>3.259242</td>\n",
       "      <td>13</td>\n",
       "      <td>NaN</td>\n",
       "      <td>3</td>\n",
       "      <td>2010</td>\n",
       "      <td>9</td>\n",
       "    </tr>\n",
       "    <tr>\n",
       "      <th>...</th>\n",
       "      <td>...</td>\n",
       "      <td>...</td>\n",
       "      <td>...</td>\n",
       "      <td>...</td>\n",
       "      <td>...</td>\n",
       "      <td>...</td>\n",
       "      <td>...</td>\n",
       "      <td>...</td>\n",
       "      <td>...</td>\n",
       "      <td>...</td>\n",
       "      <td>...</td>\n",
       "      <td>...</td>\n",
       "      <td>...</td>\n",
       "      <td>...</td>\n",
       "      <td>...</td>\n",
       "      <td>...</td>\n",
       "      <td>...</td>\n",
       "      <td>...</td>\n",
       "      <td>...</td>\n",
       "      <td>...</td>\n",
       "      <td>...</td>\n",
       "    </tr>\n",
       "    <tr>\n",
       "      <th>421565</th>\n",
       "      <td>45</td>\n",
       "      <td>98</td>\n",
       "      <td>2012-09-28</td>\n",
       "      <td>508.37</td>\n",
       "      <td>1</td>\n",
       "      <td>64.88</td>\n",
       "      <td>3.997</td>\n",
       "      <td>4556.61</td>\n",
       "      <td>20.64</td>\n",
       "      <td>1.50</td>\n",
       "      <td>...</td>\n",
       "      <td>8.684</td>\n",
       "      <td>1</td>\n",
       "      <td>118221</td>\n",
       "      <td>56.256154</td>\n",
       "      <td>3.476412</td>\n",
       "      <td>13</td>\n",
       "      <td>43.0</td>\n",
       "      <td>9</td>\n",
       "      <td>2012</td>\n",
       "      <td>39</td>\n",
       "    </tr>\n",
       "    <tr>\n",
       "      <th>421566</th>\n",
       "      <td>45</td>\n",
       "      <td>98</td>\n",
       "      <td>2012-10-05</td>\n",
       "      <td>628.10</td>\n",
       "      <td>1</td>\n",
       "      <td>64.89</td>\n",
       "      <td>3.985</td>\n",
       "      <td>5046.74</td>\n",
       "      <td>0.00</td>\n",
       "      <td>18.82</td>\n",
       "      <td>...</td>\n",
       "      <td>8.667</td>\n",
       "      <td>1</td>\n",
       "      <td>118221</td>\n",
       "      <td>56.256154</td>\n",
       "      <td>3.476412</td>\n",
       "      <td>13</td>\n",
       "      <td>43.0</td>\n",
       "      <td>10</td>\n",
       "      <td>2012</td>\n",
       "      <td>40</td>\n",
       "    </tr>\n",
       "    <tr>\n",
       "      <th>421567</th>\n",
       "      <td>45</td>\n",
       "      <td>98</td>\n",
       "      <td>2012-10-12</td>\n",
       "      <td>1061.02</td>\n",
       "      <td>1</td>\n",
       "      <td>54.47</td>\n",
       "      <td>4.000</td>\n",
       "      <td>1956.28</td>\n",
       "      <td>0.00</td>\n",
       "      <td>7.89</td>\n",
       "      <td>...</td>\n",
       "      <td>8.667</td>\n",
       "      <td>1</td>\n",
       "      <td>118221</td>\n",
       "      <td>56.256154</td>\n",
       "      <td>3.476412</td>\n",
       "      <td>13</td>\n",
       "      <td>43.0</td>\n",
       "      <td>10</td>\n",
       "      <td>2012</td>\n",
       "      <td>41</td>\n",
       "    </tr>\n",
       "    <tr>\n",
       "      <th>421568</th>\n",
       "      <td>45</td>\n",
       "      <td>98</td>\n",
       "      <td>2012-10-19</td>\n",
       "      <td>760.01</td>\n",
       "      <td>1</td>\n",
       "      <td>56.47</td>\n",
       "      <td>3.969</td>\n",
       "      <td>2004.02</td>\n",
       "      <td>0.00</td>\n",
       "      <td>3.18</td>\n",
       "      <td>...</td>\n",
       "      <td>8.667</td>\n",
       "      <td>1</td>\n",
       "      <td>118221</td>\n",
       "      <td>56.256154</td>\n",
       "      <td>3.476412</td>\n",
       "      <td>13</td>\n",
       "      <td>43.0</td>\n",
       "      <td>10</td>\n",
       "      <td>2012</td>\n",
       "      <td>42</td>\n",
       "    </tr>\n",
       "    <tr>\n",
       "      <th>421569</th>\n",
       "      <td>45</td>\n",
       "      <td>98</td>\n",
       "      <td>2012-10-26</td>\n",
       "      <td>1076.80</td>\n",
       "      <td>1</td>\n",
       "      <td>58.85</td>\n",
       "      <td>3.882</td>\n",
       "      <td>4018.91</td>\n",
       "      <td>58.08</td>\n",
       "      <td>100.00</td>\n",
       "      <td>...</td>\n",
       "      <td>8.667</td>\n",
       "      <td>1</td>\n",
       "      <td>118221</td>\n",
       "      <td>56.256154</td>\n",
       "      <td>3.476412</td>\n",
       "      <td>13</td>\n",
       "      <td>43.0</td>\n",
       "      <td>10</td>\n",
       "      <td>2012</td>\n",
       "      <td>43</td>\n",
       "    </tr>\n",
       "  </tbody>\n",
       "</table>\n",
       "<p>421570 rows × 23 columns</p>\n",
       "</div>"
      ],
      "text/plain": [
       "        Store  Dept       Date  Weekly_Sales_x  IsHoliday  Temperature  \\\n",
       "0           1     1 2010-02-05        24924.50          1        42.31   \n",
       "1           1     1 2010-02-12        46039.49          0        38.51   \n",
       "2           1     1 2010-02-19        41595.55          1        39.93   \n",
       "3           1     1 2010-02-26        19403.54          1        46.63   \n",
       "4           1     1 2010-03-05        21827.90          1        46.50   \n",
       "...       ...   ...        ...             ...        ...          ...   \n",
       "421565     45    98 2012-09-28          508.37          1        64.88   \n",
       "421566     45    98 2012-10-05          628.10          1        64.89   \n",
       "421567     45    98 2012-10-12         1061.02          1        54.47   \n",
       "421568     45    98 2012-10-19          760.01          1        56.47   \n",
       "421569     45    98 2012-10-26         1076.80          1        58.85   \n",
       "\n",
       "        Fuel_Price_x  MarkDown1  MarkDown2  MarkDown3  ...  Unemployment  \\\n",
       "0              2.572       0.00       0.00       0.00  ...         8.106   \n",
       "1              2.548       0.00       0.00       0.00  ...         8.106   \n",
       "2              2.514       0.00       0.00       0.00  ...         8.106   \n",
       "3              2.561       0.00       0.00       0.00  ...         8.106   \n",
       "4              2.625       0.00       0.00       0.00  ...         8.106   \n",
       "...              ...        ...        ...        ...  ...           ...   \n",
       "421565         3.997    4556.61      20.64       1.50  ...         8.684   \n",
       "421566         3.985    5046.74       0.00      18.82  ...         8.667   \n",
       "421567         4.000    1956.28       0.00       7.89  ...         8.667   \n",
       "421568         3.969    2004.02       0.00       3.18  ...         8.667   \n",
       "421569         3.882    4018.91      58.08     100.00  ...         8.667   \n",
       "\n",
       "        Type    Size       temp  Fuel_Price_y  holiday  Weekly_Sales_y  Month  \\\n",
       "0          0  151315  66.912033      3.259242       13             NaN      2   \n",
       "1          0  151315  66.912033      3.259242       13             NaN      2   \n",
       "2          0  151315  66.912033      3.259242       13             NaN      2   \n",
       "3          0  151315  66.912033      3.259242       13             NaN      2   \n",
       "4          0  151315  66.912033      3.259242       13             NaN      3   \n",
       "...      ...     ...        ...           ...      ...             ...    ...   \n",
       "421565     1  118221  56.256154      3.476412       13            43.0      9   \n",
       "421566     1  118221  56.256154      3.476412       13            43.0     10   \n",
       "421567     1  118221  56.256154      3.476412       13            43.0     10   \n",
       "421568     1  118221  56.256154      3.476412       13            43.0     10   \n",
       "421569     1  118221  56.256154      3.476412       13            43.0     10   \n",
       "\n",
       "        Year  WeekofYear  \n",
       "0       2010           5  \n",
       "1       2010           6  \n",
       "2       2010           7  \n",
       "3       2010           8  \n",
       "4       2010           9  \n",
       "...      ...         ...  \n",
       "421565  2012          39  \n",
       "421566  2012          40  \n",
       "421567  2012          41  \n",
       "421568  2012          42  \n",
       "421569  2012          43  \n",
       "\n",
       "[421570 rows x 23 columns]"
      ]
     },
     "execution_count": 30,
     "metadata": {},
     "output_type": "execute_result"
    }
   ],
   "source": [
    "retail_df"
   ]
  },
  {
   "cell_type": "code",
   "execution_count": 26,
   "metadata": {},
   "outputs": [
    {
     "ename": "KeyError",
     "evalue": "'Column not found: Weekly_Sales'",
     "output_type": "error",
     "traceback": [
      "\u001b[1;31m---------------------------------------------------------------------------\u001b[0m",
      "\u001b[1;31mKeyError\u001b[0m                                  Traceback (most recent call last)",
      "Input \u001b[1;32mIn [26]\u001b[0m, in \u001b[0;36m<cell line: 3>\u001b[1;34m()\u001b[0m\n\u001b[0;32m      1\u001b[0m \u001b[38;5;66;03m#Now, I'm interested in Total Weekly_Sales by store rather than each specific department as well\u001b[39;00m\n\u001b[0;32m      2\u001b[0m \u001b[38;5;66;03m#I want to do a groupby of store by Date and display the summed up Weekly Sales\u001b[39;00m\n\u001b[1;32m----> 3\u001b[0m total_sales \u001b[38;5;241m=\u001b[39m \u001b[43mretail_df\u001b[49m\u001b[38;5;241;43m.\u001b[39;49m\u001b[43mgroupby\u001b[49m\u001b[43m(\u001b[49m\u001b[43m[\u001b[49m\u001b[38;5;124;43m\"\u001b[39;49m\u001b[38;5;124;43mStore\u001b[39;49m\u001b[38;5;124;43m\"\u001b[39;49m\u001b[43m,\u001b[49m\u001b[38;5;124;43m\"\u001b[39;49m\u001b[38;5;124;43mDate\u001b[39;49m\u001b[38;5;124;43m\"\u001b[39;49m\u001b[43m]\u001b[49m\u001b[43m,\u001b[49m\u001b[43m \u001b[49m\u001b[43mas_index\u001b[49m\u001b[38;5;241;43m=\u001b[39;49m\u001b[38;5;28;43;01mFalse\u001b[39;49;00m\u001b[43m)\u001b[49m\u001b[43m[\u001b[49m\u001b[38;5;124;43m'\u001b[39;49m\u001b[38;5;124;43mWeekly_Sales\u001b[39;49m\u001b[38;5;124;43m'\u001b[39;49m\u001b[43m]\u001b[49m\u001b[38;5;241m.\u001b[39msum()\n\u001b[0;32m      4\u001b[0m \u001b[38;5;66;03m#convert into df\u001b[39;00m\n\u001b[0;32m      5\u001b[0m total_sales \u001b[38;5;241m=\u001b[39m pd\u001b[38;5;241m.\u001b[39mDataFrame(total_sales)\n",
      "File \u001b[1;32mC:\\ProgramData\\Anaconda3\\lib\\site-packages\\pandas\\core\\groupby\\generic.py:1338\u001b[0m, in \u001b[0;36mDataFrameGroupBy.__getitem__\u001b[1;34m(self, key)\u001b[0m\n\u001b[0;32m   1329\u001b[0m \u001b[38;5;28;01mif\u001b[39;00m \u001b[38;5;28misinstance\u001b[39m(key, \u001b[38;5;28mtuple\u001b[39m) \u001b[38;5;129;01mand\u001b[39;00m \u001b[38;5;28mlen\u001b[39m(key) \u001b[38;5;241m>\u001b[39m \u001b[38;5;241m1\u001b[39m:\n\u001b[0;32m   1330\u001b[0m     \u001b[38;5;66;03m# if len == 1, then it becomes a SeriesGroupBy and this is actually\u001b[39;00m\n\u001b[0;32m   1331\u001b[0m     \u001b[38;5;66;03m# valid syntax, so don't raise warning\u001b[39;00m\n\u001b[0;32m   1332\u001b[0m     warnings\u001b[38;5;241m.\u001b[39mwarn(\n\u001b[0;32m   1333\u001b[0m         \u001b[38;5;124m\"\u001b[39m\u001b[38;5;124mIndexing with multiple keys (implicitly converted to a tuple \u001b[39m\u001b[38;5;124m\"\u001b[39m\n\u001b[0;32m   1334\u001b[0m         \u001b[38;5;124m\"\u001b[39m\u001b[38;5;124mof keys) will be deprecated, use a list instead.\u001b[39m\u001b[38;5;124m\"\u001b[39m,\n\u001b[0;32m   1335\u001b[0m         \u001b[38;5;167;01mFutureWarning\u001b[39;00m,\n\u001b[0;32m   1336\u001b[0m         stacklevel\u001b[38;5;241m=\u001b[39mfind_stack_level(),\n\u001b[0;32m   1337\u001b[0m     )\n\u001b[1;32m-> 1338\u001b[0m \u001b[38;5;28;01mreturn\u001b[39;00m \u001b[38;5;28;43msuper\u001b[39;49m\u001b[43m(\u001b[49m\u001b[43m)\u001b[49m\u001b[38;5;241;43m.\u001b[39;49m\u001b[38;5;21;43m__getitem__\u001b[39;49m\u001b[43m(\u001b[49m\u001b[43mkey\u001b[49m\u001b[43m)\u001b[49m\n",
      "File \u001b[1;32mC:\\ProgramData\\Anaconda3\\lib\\site-packages\\pandas\\core\\base.py:245\u001b[0m, in \u001b[0;36mSelectionMixin.__getitem__\u001b[1;34m(self, key)\u001b[0m\n\u001b[0;32m    243\u001b[0m \u001b[38;5;28;01melif\u001b[39;00m \u001b[38;5;129;01mnot\u001b[39;00m \u001b[38;5;28mgetattr\u001b[39m(\u001b[38;5;28mself\u001b[39m, \u001b[38;5;124m\"\u001b[39m\u001b[38;5;124mas_index\u001b[39m\u001b[38;5;124m\"\u001b[39m, \u001b[38;5;28;01mFalse\u001b[39;00m):\n\u001b[0;32m    244\u001b[0m     \u001b[38;5;28;01mif\u001b[39;00m key \u001b[38;5;129;01mnot\u001b[39;00m \u001b[38;5;129;01min\u001b[39;00m \u001b[38;5;28mself\u001b[39m\u001b[38;5;241m.\u001b[39mobj\u001b[38;5;241m.\u001b[39mcolumns:\n\u001b[1;32m--> 245\u001b[0m         \u001b[38;5;28;01mraise\u001b[39;00m \u001b[38;5;167;01mKeyError\u001b[39;00m(\u001b[38;5;124mf\u001b[39m\u001b[38;5;124m\"\u001b[39m\u001b[38;5;124mColumn not found: \u001b[39m\u001b[38;5;132;01m{\u001b[39;00mkey\u001b[38;5;132;01m}\u001b[39;00m\u001b[38;5;124m\"\u001b[39m)\n\u001b[0;32m    246\u001b[0m     \u001b[38;5;28;01mreturn\u001b[39;00m \u001b[38;5;28mself\u001b[39m\u001b[38;5;241m.\u001b[39m_gotitem(key, ndim\u001b[38;5;241m=\u001b[39m\u001b[38;5;241m2\u001b[39m)\n\u001b[0;32m    248\u001b[0m \u001b[38;5;28;01melse\u001b[39;00m:\n",
      "\u001b[1;31mKeyError\u001b[0m: 'Column not found: Weekly_Sales'"
     ]
    }
   ],
   "source": [
    "#Now, I'm interested in Total Weekly_Sales by store rather than each specific department as well\n",
    "#I want to do a groupby of store by Date and display the summed up Weekly Sales\n",
    "total_sales = retail_df.groupby([\"Store\",\"Date\"], as_index=False)['Weekly_Sales'].sum()\n",
    "#convert into df\n",
    "total_sales = pd.DataFrame(total_sales)\n",
    "total_sales.rename(columns = {'Weekly_Sales':'Total_Weekly_Sales'}, inplace = True)\n",
    "totalsales_output = pd.DataFrame(total_sales)\n",
    "totalsales_output.to_csv(\"total_sales_by_store.csv\")\n",
    "total_sales"
   ]
  },
  {
   "cell_type": "code",
   "execution_count": 27,
   "metadata": {},
   "outputs": [],
   "source": [
    "'''\n",
    "Since the data didn't come with explanations on everything, I assumed the Markdown columns to be a\n",
    "representation of the dollar value of total markdowns sold for that particular week in different\n",
    "categories (maybe clearance). Therefore, if the data had null values I assumed that it meant there\n",
    "were no markdowns sold for that week and replaced nulls with 0.\n",
    "'''\n",
    "retail_df['MarkDown1'].fillna(0, inplace=True)\n",
    "retail_df['MarkDown2'].fillna(0, inplace=True)\n",
    "retail_df['MarkDown3'].fillna(0, inplace=True)\n",
    "retail_df['MarkDown4'].fillna(0, inplace=True)\n",
    "retail_df['MarkDown5'].fillna(0, inplace=True)\n",
    "\n",
    "#CPI and unemployment should be replaced with average\n",
    "retail_df['CPI'].fillna((retail_df['CPI'].mean()), inplace=True)\n",
    "retail_df['Unemployment'].fillna((retail_df['Unemployment'].mean()), inplace=True)\n",
    "\n",
    "retail_df['IsHoliday'] = retail_df['IsHoliday'].map({True:0,False:1})\n",
    "types_encoded, types =retail_df['Type'].factorize()\n",
    "retail_df['Type'] = types_encoded\n"
   ]
  },
  {
   "cell_type": "code",
   "execution_count": 28,
   "metadata": {
    "id": "nacfQfeGxiRh",
    "scrolled": true
   },
   "outputs": [
    {
     "data": {
      "text/html": [
       "<div>\n",
       "<style scoped>\n",
       "    .dataframe tbody tr th:only-of-type {\n",
       "        vertical-align: middle;\n",
       "    }\n",
       "\n",
       "    .dataframe tbody tr th {\n",
       "        vertical-align: top;\n",
       "    }\n",
       "\n",
       "    .dataframe thead th {\n",
       "        text-align: right;\n",
       "    }\n",
       "</style>\n",
       "<table border=\"1\" class=\"dataframe\">\n",
       "  <thead>\n",
       "    <tr style=\"text-align: right;\">\n",
       "      <th></th>\n",
       "      <th>Store</th>\n",
       "      <th>Dept</th>\n",
       "      <th>Date</th>\n",
       "      <th>Weekly_Sales_x</th>\n",
       "      <th>IsHoliday</th>\n",
       "      <th>Temperature</th>\n",
       "      <th>Fuel_Price_x</th>\n",
       "      <th>MarkDown1</th>\n",
       "      <th>MarkDown2</th>\n",
       "      <th>MarkDown3</th>\n",
       "      <th>...</th>\n",
       "      <th>Unemployment</th>\n",
       "      <th>Type</th>\n",
       "      <th>Size</th>\n",
       "      <th>temp</th>\n",
       "      <th>Fuel_Price_y</th>\n",
       "      <th>holiday</th>\n",
       "      <th>Weekly_Sales_y</th>\n",
       "      <th>Month</th>\n",
       "      <th>Year</th>\n",
       "      <th>WeekofYear</th>\n",
       "    </tr>\n",
       "  </thead>\n",
       "  <tbody>\n",
       "    <tr>\n",
       "      <th>0</th>\n",
       "      <td>1</td>\n",
       "      <td>1</td>\n",
       "      <td>2010-02-05</td>\n",
       "      <td>24924.50</td>\n",
       "      <td>1</td>\n",
       "      <td>42.31</td>\n",
       "      <td>2.572</td>\n",
       "      <td>0.0</td>\n",
       "      <td>0.0</td>\n",
       "      <td>0.0</td>\n",
       "      <td>...</td>\n",
       "      <td>8.106</td>\n",
       "      <td>0</td>\n",
       "      <td>151315</td>\n",
       "      <td>66.912033</td>\n",
       "      <td>3.259242</td>\n",
       "      <td>13</td>\n",
       "      <td>NaN</td>\n",
       "      <td>2</td>\n",
       "      <td>2010</td>\n",
       "      <td>5</td>\n",
       "    </tr>\n",
       "    <tr>\n",
       "      <th>1</th>\n",
       "      <td>1</td>\n",
       "      <td>1</td>\n",
       "      <td>2010-02-12</td>\n",
       "      <td>46039.49</td>\n",
       "      <td>0</td>\n",
       "      <td>38.51</td>\n",
       "      <td>2.548</td>\n",
       "      <td>0.0</td>\n",
       "      <td>0.0</td>\n",
       "      <td>0.0</td>\n",
       "      <td>...</td>\n",
       "      <td>8.106</td>\n",
       "      <td>0</td>\n",
       "      <td>151315</td>\n",
       "      <td>66.912033</td>\n",
       "      <td>3.259242</td>\n",
       "      <td>13</td>\n",
       "      <td>NaN</td>\n",
       "      <td>2</td>\n",
       "      <td>2010</td>\n",
       "      <td>6</td>\n",
       "    </tr>\n",
       "    <tr>\n",
       "      <th>2</th>\n",
       "      <td>1</td>\n",
       "      <td>1</td>\n",
       "      <td>2010-02-19</td>\n",
       "      <td>41595.55</td>\n",
       "      <td>1</td>\n",
       "      <td>39.93</td>\n",
       "      <td>2.514</td>\n",
       "      <td>0.0</td>\n",
       "      <td>0.0</td>\n",
       "      <td>0.0</td>\n",
       "      <td>...</td>\n",
       "      <td>8.106</td>\n",
       "      <td>0</td>\n",
       "      <td>151315</td>\n",
       "      <td>66.912033</td>\n",
       "      <td>3.259242</td>\n",
       "      <td>13</td>\n",
       "      <td>NaN</td>\n",
       "      <td>2</td>\n",
       "      <td>2010</td>\n",
       "      <td>7</td>\n",
       "    </tr>\n",
       "    <tr>\n",
       "      <th>3</th>\n",
       "      <td>1</td>\n",
       "      <td>1</td>\n",
       "      <td>2010-02-26</td>\n",
       "      <td>19403.54</td>\n",
       "      <td>1</td>\n",
       "      <td>46.63</td>\n",
       "      <td>2.561</td>\n",
       "      <td>0.0</td>\n",
       "      <td>0.0</td>\n",
       "      <td>0.0</td>\n",
       "      <td>...</td>\n",
       "      <td>8.106</td>\n",
       "      <td>0</td>\n",
       "      <td>151315</td>\n",
       "      <td>66.912033</td>\n",
       "      <td>3.259242</td>\n",
       "      <td>13</td>\n",
       "      <td>NaN</td>\n",
       "      <td>2</td>\n",
       "      <td>2010</td>\n",
       "      <td>8</td>\n",
       "    </tr>\n",
       "    <tr>\n",
       "      <th>4</th>\n",
       "      <td>1</td>\n",
       "      <td>1</td>\n",
       "      <td>2010-03-05</td>\n",
       "      <td>21827.90</td>\n",
       "      <td>1</td>\n",
       "      <td>46.50</td>\n",
       "      <td>2.625</td>\n",
       "      <td>0.0</td>\n",
       "      <td>0.0</td>\n",
       "      <td>0.0</td>\n",
       "      <td>...</td>\n",
       "      <td>8.106</td>\n",
       "      <td>0</td>\n",
       "      <td>151315</td>\n",
       "      <td>66.912033</td>\n",
       "      <td>3.259242</td>\n",
       "      <td>13</td>\n",
       "      <td>NaN</td>\n",
       "      <td>3</td>\n",
       "      <td>2010</td>\n",
       "      <td>9</td>\n",
       "    </tr>\n",
       "  </tbody>\n",
       "</table>\n",
       "<p>5 rows × 23 columns</p>\n",
       "</div>"
      ],
      "text/plain": [
       "   Store  Dept       Date  Weekly_Sales_x  IsHoliday  Temperature  \\\n",
       "0      1     1 2010-02-05        24924.50          1        42.31   \n",
       "1      1     1 2010-02-12        46039.49          0        38.51   \n",
       "2      1     1 2010-02-19        41595.55          1        39.93   \n",
       "3      1     1 2010-02-26        19403.54          1        46.63   \n",
       "4      1     1 2010-03-05        21827.90          1        46.50   \n",
       "\n",
       "   Fuel_Price_x  MarkDown1  MarkDown2  MarkDown3  ...  Unemployment  Type  \\\n",
       "0         2.572        0.0        0.0        0.0  ...         8.106     0   \n",
       "1         2.548        0.0        0.0        0.0  ...         8.106     0   \n",
       "2         2.514        0.0        0.0        0.0  ...         8.106     0   \n",
       "3         2.561        0.0        0.0        0.0  ...         8.106     0   \n",
       "4         2.625        0.0        0.0        0.0  ...         8.106     0   \n",
       "\n",
       "     Size       temp  Fuel_Price_y  holiday  Weekly_Sales_y  Month  Year  \\\n",
       "0  151315  66.912033      3.259242       13             NaN      2  2010   \n",
       "1  151315  66.912033      3.259242       13             NaN      2  2010   \n",
       "2  151315  66.912033      3.259242       13             NaN      2  2010   \n",
       "3  151315  66.912033      3.259242       13             NaN      2  2010   \n",
       "4  151315  66.912033      3.259242       13             NaN      3  2010   \n",
       "\n",
       "   WeekofYear  \n",
       "0           5  \n",
       "1           6  \n",
       "2           7  \n",
       "3           8  \n",
       "4           9  \n",
       "\n",
       "[5 rows x 23 columns]"
      ]
     },
     "execution_count": 28,
     "metadata": {},
     "output_type": "execute_result"
    }
   ],
   "source": [
    "del retail_df['index']\n",
    "retail_df.head()"
   ]
  },
  {
   "cell_type": "code",
   "execution_count": 31,
   "metadata": {
    "scrolled": false
   },
   "outputs": [
    {
     "data": {
      "text/html": [
       "<div>\n",
       "<style scoped>\n",
       "    .dataframe tbody tr th:only-of-type {\n",
       "        vertical-align: middle;\n",
       "    }\n",
       "\n",
       "    .dataframe tbody tr th {\n",
       "        vertical-align: top;\n",
       "    }\n",
       "\n",
       "    .dataframe thead th {\n",
       "        text-align: right;\n",
       "    }\n",
       "</style>\n",
       "<table border=\"1\" class=\"dataframe\">\n",
       "  <thead>\n",
       "    <tr style=\"text-align: right;\">\n",
       "      <th></th>\n",
       "      <th>Store</th>\n",
       "      <th>Dept</th>\n",
       "      <th>Weekly_Sales</th>\n",
       "      <th>IsHoliday</th>\n",
       "      <th>Temperature</th>\n",
       "      <th>Fuel_Price_x</th>\n",
       "      <th>MarkDown1</th>\n",
       "      <th>MarkDown2</th>\n",
       "      <th>MarkDown3</th>\n",
       "      <th>MarkDown4</th>\n",
       "      <th>...</th>\n",
       "      <th>Unemployment</th>\n",
       "      <th>Type</th>\n",
       "      <th>Size</th>\n",
       "      <th>temp</th>\n",
       "      <th>Fuel_Price_y</th>\n",
       "      <th>holiday</th>\n",
       "      <th>Weekly_Sales_y</th>\n",
       "      <th>Month</th>\n",
       "      <th>Year</th>\n",
       "      <th>WeekofYear</th>\n",
       "    </tr>\n",
       "  </thead>\n",
       "  <tbody>\n",
       "    <tr>\n",
       "      <th>count</th>\n",
       "      <td>421570.000000</td>\n",
       "      <td>421570.000000</td>\n",
       "      <td>421570.000000</td>\n",
       "      <td>421570.000000</td>\n",
       "      <td>421570.000000</td>\n",
       "      <td>421570.000000</td>\n",
       "      <td>421570.000000</td>\n",
       "      <td>421570.000000</td>\n",
       "      <td>421570.000000</td>\n",
       "      <td>421570.000000</td>\n",
       "      <td>...</td>\n",
       "      <td>421570.000000</td>\n",
       "      <td>421570.000000</td>\n",
       "      <td>421570.000000</td>\n",
       "      <td>421570.000000</td>\n",
       "      <td>421570.000000</td>\n",
       "      <td>421570.0</td>\n",
       "      <td>411326.000000</td>\n",
       "      <td>421570.000000</td>\n",
       "      <td>421570.000000</td>\n",
       "      <td>421570.000000</td>\n",
       "    </tr>\n",
       "    <tr>\n",
       "      <th>mean</th>\n",
       "      <td>22.200546</td>\n",
       "      <td>44.260317</td>\n",
       "      <td>15981.258123</td>\n",
       "      <td>0.929642</td>\n",
       "      <td>60.090059</td>\n",
       "      <td>3.361027</td>\n",
       "      <td>2590.074819</td>\n",
       "      <td>879.974298</td>\n",
       "      <td>468.087665</td>\n",
       "      <td>1083.132268</td>\n",
       "      <td>...</td>\n",
       "      <td>7.960289</td>\n",
       "      <td>0.589912</td>\n",
       "      <td>136727.915739</td>\n",
       "      <td>58.823038</td>\n",
       "      <td>3.407146</td>\n",
       "      <td>13.0</td>\n",
       "      <td>151.827356</td>\n",
       "      <td>6.449510</td>\n",
       "      <td>2010.968591</td>\n",
       "      <td>25.826762</td>\n",
       "    </tr>\n",
       "    <tr>\n",
       "      <th>std</th>\n",
       "      <td>12.785297</td>\n",
       "      <td>30.492054</td>\n",
       "      <td>22711.183519</td>\n",
       "      <td>0.255750</td>\n",
       "      <td>18.447931</td>\n",
       "      <td>0.458515</td>\n",
       "      <td>6052.385934</td>\n",
       "      <td>5084.538801</td>\n",
       "      <td>5528.873453</td>\n",
       "      <td>3894.529945</td>\n",
       "      <td>...</td>\n",
       "      <td>1.863296</td>\n",
       "      <td>0.666337</td>\n",
       "      <td>60980.583328</td>\n",
       "      <td>9.749090</td>\n",
       "      <td>0.151280</td>\n",
       "      <td>0.0</td>\n",
       "      <td>78.477317</td>\n",
       "      <td>3.243217</td>\n",
       "      <td>0.796876</td>\n",
       "      <td>14.151887</td>\n",
       "    </tr>\n",
       "    <tr>\n",
       "      <th>min</th>\n",
       "      <td>1.000000</td>\n",
       "      <td>1.000000</td>\n",
       "      <td>-4988.940000</td>\n",
       "      <td>0.000000</td>\n",
       "      <td>-2.060000</td>\n",
       "      <td>2.472000</td>\n",
       "      <td>0.000000</td>\n",
       "      <td>-265.760000</td>\n",
       "      <td>-29.100000</td>\n",
       "      <td>0.000000</td>\n",
       "      <td>...</td>\n",
       "      <td>3.879000</td>\n",
       "      <td>0.000000</td>\n",
       "      <td>34875.000000</td>\n",
       "      <td>37.921264</td>\n",
       "      <td>3.245945</td>\n",
       "      <td>13.0</td>\n",
       "      <td>37.000000</td>\n",
       "      <td>1.000000</td>\n",
       "      <td>2010.000000</td>\n",
       "      <td>1.000000</td>\n",
       "    </tr>\n",
       "    <tr>\n",
       "      <th>25%</th>\n",
       "      <td>11.000000</td>\n",
       "      <td>18.000000</td>\n",
       "      <td>2079.650000</td>\n",
       "      <td>1.000000</td>\n",
       "      <td>46.680000</td>\n",
       "      <td>2.933000</td>\n",
       "      <td>0.000000</td>\n",
       "      <td>0.000000</td>\n",
       "      <td>0.000000</td>\n",
       "      <td>0.000000</td>\n",
       "      <td>...</td>\n",
       "      <td>6.891000</td>\n",
       "      <td>0.000000</td>\n",
       "      <td>93638.000000</td>\n",
       "      <td>51.223516</td>\n",
       "      <td>3.259242</td>\n",
       "      <td>13.0</td>\n",
       "      <td>79.000000</td>\n",
       "      <td>4.000000</td>\n",
       "      <td>2010.000000</td>\n",
       "      <td>14.000000</td>\n",
       "    </tr>\n",
       "    <tr>\n",
       "      <th>50%</th>\n",
       "      <td>22.000000</td>\n",
       "      <td>37.000000</td>\n",
       "      <td>7612.030000</td>\n",
       "      <td>1.000000</td>\n",
       "      <td>62.090000</td>\n",
       "      <td>3.452000</td>\n",
       "      <td>0.000000</td>\n",
       "      <td>0.000000</td>\n",
       "      <td>0.000000</td>\n",
       "      <td>0.000000</td>\n",
       "      <td>...</td>\n",
       "      <td>7.866000</td>\n",
       "      <td>0.000000</td>\n",
       "      <td>140167.000000</td>\n",
       "      <td>56.256154</td>\n",
       "      <td>3.328764</td>\n",
       "      <td>13.0</td>\n",
       "      <td>143.000000</td>\n",
       "      <td>6.000000</td>\n",
       "      <td>2011.000000</td>\n",
       "      <td>26.000000</td>\n",
       "    </tr>\n",
       "    <tr>\n",
       "      <th>75%</th>\n",
       "      <td>33.000000</td>\n",
       "      <td>74.000000</td>\n",
       "      <td>20205.852500</td>\n",
       "      <td>1.000000</td>\n",
       "      <td>74.280000</td>\n",
       "      <td>3.738000</td>\n",
       "      <td>2809.050000</td>\n",
       "      <td>2.200000</td>\n",
       "      <td>4.540000</td>\n",
       "      <td>425.290000</td>\n",
       "      <td>...</td>\n",
       "      <td>8.572000</td>\n",
       "      <td>1.000000</td>\n",
       "      <td>202505.000000</td>\n",
       "      <td>68.224505</td>\n",
       "      <td>3.497874</td>\n",
       "      <td>13.0</td>\n",
       "      <td>206.000000</td>\n",
       "      <td>9.000000</td>\n",
       "      <td>2012.000000</td>\n",
       "      <td>38.000000</td>\n",
       "    </tr>\n",
       "    <tr>\n",
       "      <th>max</th>\n",
       "      <td>45.000000</td>\n",
       "      <td>99.000000</td>\n",
       "      <td>693099.360000</td>\n",
       "      <td>1.000000</td>\n",
       "      <td>100.140000</td>\n",
       "      <td>4.468000</td>\n",
       "      <td>88646.760000</td>\n",
       "      <td>104519.540000</td>\n",
       "      <td>141630.610000</td>\n",
       "      <td>67474.850000</td>\n",
       "      <td>...</td>\n",
       "      <td>14.313000</td>\n",
       "      <td>2.000000</td>\n",
       "      <td>219622.000000</td>\n",
       "      <td>75.438077</td>\n",
       "      <td>3.643654</td>\n",
       "      <td>13.0</td>\n",
       "      <td>301.000000</td>\n",
       "      <td>12.000000</td>\n",
       "      <td>2012.000000</td>\n",
       "      <td>52.000000</td>\n",
       "    </tr>\n",
       "  </tbody>\n",
       "</table>\n",
       "<p>8 rows × 22 columns</p>\n",
       "</div>"
      ],
      "text/plain": [
       "               Store           Dept   Weekly_Sales      IsHoliday  \\\n",
       "count  421570.000000  421570.000000  421570.000000  421570.000000   \n",
       "mean       22.200546      44.260317   15981.258123       0.929642   \n",
       "std        12.785297      30.492054   22711.183519       0.255750   \n",
       "min         1.000000       1.000000   -4988.940000       0.000000   \n",
       "25%        11.000000      18.000000    2079.650000       1.000000   \n",
       "50%        22.000000      37.000000    7612.030000       1.000000   \n",
       "75%        33.000000      74.000000   20205.852500       1.000000   \n",
       "max        45.000000      99.000000  693099.360000       1.000000   \n",
       "\n",
       "         Temperature   Fuel_Price_x      MarkDown1      MarkDown2  \\\n",
       "count  421570.000000  421570.000000  421570.000000  421570.000000   \n",
       "mean       60.090059       3.361027    2590.074819     879.974298   \n",
       "std        18.447931       0.458515    6052.385934    5084.538801   \n",
       "min        -2.060000       2.472000       0.000000    -265.760000   \n",
       "25%        46.680000       2.933000       0.000000       0.000000   \n",
       "50%        62.090000       3.452000       0.000000       0.000000   \n",
       "75%        74.280000       3.738000    2809.050000       2.200000   \n",
       "max       100.140000       4.468000   88646.760000  104519.540000   \n",
       "\n",
       "           MarkDown3      MarkDown4  ...   Unemployment           Type  \\\n",
       "count  421570.000000  421570.000000  ...  421570.000000  421570.000000   \n",
       "mean      468.087665    1083.132268  ...       7.960289       0.589912   \n",
       "std      5528.873453    3894.529945  ...       1.863296       0.666337   \n",
       "min       -29.100000       0.000000  ...       3.879000       0.000000   \n",
       "25%         0.000000       0.000000  ...       6.891000       0.000000   \n",
       "50%         0.000000       0.000000  ...       7.866000       0.000000   \n",
       "75%         4.540000     425.290000  ...       8.572000       1.000000   \n",
       "max    141630.610000   67474.850000  ...      14.313000       2.000000   \n",
       "\n",
       "                Size           temp   Fuel_Price_y   holiday  Weekly_Sales_y  \\\n",
       "count  421570.000000  421570.000000  421570.000000  421570.0   411326.000000   \n",
       "mean   136727.915739      58.823038       3.407146      13.0      151.827356   \n",
       "std     60980.583328       9.749090       0.151280       0.0       78.477317   \n",
       "min     34875.000000      37.921264       3.245945      13.0       37.000000   \n",
       "25%     93638.000000      51.223516       3.259242      13.0       79.000000   \n",
       "50%    140167.000000      56.256154       3.328764      13.0      143.000000   \n",
       "75%    202505.000000      68.224505       3.497874      13.0      206.000000   \n",
       "max    219622.000000      75.438077       3.643654      13.0      301.000000   \n",
       "\n",
       "               Month           Year     WeekofYear  \n",
       "count  421570.000000  421570.000000  421570.000000  \n",
       "mean        6.449510    2010.968591      25.826762  \n",
       "std         3.243217       0.796876      14.151887  \n",
       "min         1.000000    2010.000000       1.000000  \n",
       "25%         4.000000    2010.000000      14.000000  \n",
       "50%         6.000000    2011.000000      26.000000  \n",
       "75%         9.000000    2012.000000      38.000000  \n",
       "max        12.000000    2012.000000      52.000000  \n",
       "\n",
       "[8 rows x 22 columns]"
      ]
     },
     "execution_count": 31,
     "metadata": {},
     "output_type": "execute_result"
    }
   ],
   "source": [
    "retail_df.rename(columns = {'Weekly_Sales_x':'Weekly_Sales'}, inplace = True)\n",
    "retail_df.rename(columns = {'Fuel_Price_x':'Fuel_Price'}, inplace = True)\n",
    "retail_df.rename(columns = {'Weekly_Sales_y':'Weekly_Sales'}, inplace = True)\n",
    "retail_df.rename(columns = {'Fuel_Price_x':'Fuel_Price'}, inplace = True)\n",
    "retail_df.describe()\n",
    "#now our entire database columns have the expected counts of 42,1570"
   ]
  },
  {
   "cell_type": "markdown",
   "metadata": {
    "id": "-1ptU2Yvyn-L"
   },
   "source": [
    "Create train and test datasets."
   ]
  },
  {
   "cell_type": "code",
   "execution_count": null,
   "metadata": {},
   "outputs": [],
   "source": []
  },
  {
   "cell_type": "code",
   "execution_count": null,
   "metadata": {},
   "outputs": [],
   "source": []
  },
  {
   "cell_type": "code",
   "execution_count": null,
   "metadata": {},
   "outputs": [],
   "source": []
  },
  {
   "cell_type": "code",
   "execution_count": null,
   "metadata": {},
   "outputs": [],
   "source": []
  },
  {
   "cell_type": "code",
   "execution_count": null,
   "metadata": {},
   "outputs": [],
   "source": []
  },
  {
   "cell_type": "code",
   "execution_count": null,
   "metadata": {},
   "outputs": [],
   "source": []
  },
  {
   "cell_type": "code",
   "execution_count": 15,
   "metadata": {
    "id": "_gA3CJ22RO1R",
    "scrolled": true
   },
   "outputs": [
    {
     "ename": "NameError",
     "evalue": "name 'retail_df' is not defined",
     "output_type": "error",
     "traceback": [
      "\u001b[1;31m---------------------------------------------------------------------------\u001b[0m",
      "\u001b[1;31mNameError\u001b[0m                                 Traceback (most recent call last)",
      "Input \u001b[1;32mIn [15]\u001b[0m, in \u001b[0;36m<cell line: 1>\u001b[1;34m()\u001b[0m\n\u001b[1;32m----> 1\u001b[0m X \u001b[38;5;241m=\u001b[39m \u001b[43mretail_df\u001b[49m\u001b[38;5;241m.\u001b[39mdrop([\u001b[38;5;124m\"\u001b[39m\u001b[38;5;124mWeekly_Sales\u001b[39m\u001b[38;5;124m\"\u001b[39m], axis\u001b[38;5;241m=\u001b[39m\u001b[38;5;241m1\u001b[39m)\n\u001b[0;32m      2\u001b[0m y \u001b[38;5;241m=\u001b[39m retail_df[\u001b[38;5;124m\"\u001b[39m\u001b[38;5;124mWeekly_Sales\u001b[39m\u001b[38;5;124m\"\u001b[39m]\n\u001b[0;32m      3\u001b[0m X_train, X_test, y_train, y_test \u001b[38;5;241m=\u001b[39m train_test_split(\n\u001b[0;32m      4\u001b[0m     X,\n\u001b[0;32m      5\u001b[0m     y,\n\u001b[0;32m      6\u001b[0m     test_size\u001b[38;5;241m=\u001b[39m\u001b[38;5;241m0.2\u001b[39m,\n\u001b[0;32m      7\u001b[0m     random_state\u001b[38;5;241m=\u001b[39m\u001b[38;5;241m0\u001b[39m,\n\u001b[0;32m      8\u001b[0m )\n",
      "\u001b[1;31mNameError\u001b[0m: name 'retail_df' is not defined"
     ]
    }
   ],
   "source": [
    "X = retail_df.drop([\"Weekly_Sales\"], axis=1)\n",
    "y = retail_df[\"Weekly_Sales\"]\n",
    "X_train, X_test, y_train, y_test = train_test_split(\n",
    "    X,\n",
    "    y,\n",
    "    test_size=0.2,\n",
    "    random_state=0,\n",
    ")"
   ]
  },
  {
   "cell_type": "markdown",
   "metadata": {
    "id": "aeb8AyarGSNF"
   },
   "source": [
    "Fit logistic regression model and calculate accuracy using the train data.  Use 2000 for the maximum number of iterations."
   ]
  },
  {
   "cell_type": "code",
   "execution_count": 18,
   "metadata": {
    "id": "fXbaeNHpEzRX",
    "scrolled": false
   },
   "outputs": [
    {
     "data": {
      "text/plain": [
       "0.9403865312996655"
      ]
     },
     "execution_count": 18,
     "metadata": {},
     "output_type": "execute_result"
    }
   ],
   "source": [
    "my_lr = LogisticRegression(max_iter=2000).fit(X_train, y_train)\n",
    "lr_pred_train = my_lr.predict(X_train)\n",
    "metrics.accuracy_score(y_train, lr_pred_train)"
   ]
  },
  {
   "cell_type": "markdown",
   "metadata": {
    "id": "nQyLY_aMcA7v"
   },
   "source": [
    "Calculate accuracy using the test data.\n",
    "\n"
   ]
  },
  {
   "cell_type": "code",
   "execution_count": 15,
   "metadata": {
    "id": "CkkJVRaeVAIn"
   },
   "outputs": [
    {
     "data": {
      "text/plain": [
       "0.94"
      ]
     },
     "execution_count": 15,
     "metadata": {},
     "output_type": "execute_result"
    }
   ],
   "source": [
    "lr_pred_test = my_lr.predict(X_test)\n",
    "metrics.accuracy_score(y_test, lr_pred_test)"
   ]
  },
  {
   "cell_type": "markdown",
   "metadata": {
    "id": "TFaynlDbcIj4"
   },
   "source": [
    "Create a confusion matrix for the test data."
   ]
  },
  {
   "cell_type": "code",
   "execution_count": 9,
   "metadata": {
    "id": "5W5LqdvEWx8X"
   },
   "outputs": [
    {
     "ename": "NameError",
     "evalue": "name 'y_test' is not defined",
     "output_type": "error",
     "traceback": [
      "\u001b[1;31m---------------------------------------------------------------------------\u001b[0m",
      "\u001b[1;31mNameError\u001b[0m                                 Traceback (most recent call last)",
      "Input \u001b[1;32mIn [9]\u001b[0m, in \u001b[0;36m<cell line: 1>\u001b[1;34m()\u001b[0m\n\u001b[1;32m----> 1\u001b[0m metrics\u001b[38;5;241m.\u001b[39mconfusion_matrix(\u001b[43my_test\u001b[49m, lr_pred_test)\n",
      "\u001b[1;31mNameError\u001b[0m: name 'y_test' is not defined"
     ]
    }
   ],
   "source": [
    "metrics.confusion_matrix(y_test, lr_pred_test)"
   ]
  },
  {
   "cell_type": "markdown",
   "metadata": {
    "id": "LptgO64UhlkH"
   },
   "source": [
    "Fit decision tree model and calculate accuracy on the train data."
   ]
  },
  {
   "cell_type": "code",
   "execution_count": null,
   "metadata": {
    "id": "DGM3RZ6xY2sW"
   },
   "outputs": [],
   "source": []
  },
  {
   "cell_type": "markdown",
   "metadata": {
    "id": "yq-OA4eSkM4S"
   },
   "source": [
    "Make predictions using test data."
   ]
  },
  {
   "cell_type": "code",
   "execution_count": null,
   "metadata": {
    "id": "jeFboHFakRFD"
   },
   "outputs": [],
   "source": []
  },
  {
   "cell_type": "markdown",
   "metadata": {
    "id": "Ap50H-k1kyAU"
   },
   "source": [
    "Create a confusion matrix for the test data."
   ]
  },
  {
   "cell_type": "code",
   "execution_count": null,
   "metadata": {
    "id": "ch5AXMfMkBNu"
   },
   "outputs": [],
   "source": []
  }
 ],
 "metadata": {
  "colab": {
   "authorship_tag": "ABX9TyOe2Bxt1O0c8soUbNVs6VG0",
   "collapsed_sections": [],
   "provenance": [
    {
     "file_id": "1RyxxHSXIXz38QZEw49M2vzP9Zn8oE-6D",
     "timestamp": 1663872135244
    },
    {
     "file_id": "1T0f4NxfSlrnk8ybbV5OIG1J9o2vXnm6t",
     "timestamp": 1663188932081
    }
   ]
  },
  "kernelspec": {
   "display_name": "Python 3 (ipykernel)",
   "language": "python",
   "name": "python3"
  },
  "language_info": {
   "codemirror_mode": {
    "name": "ipython",
    "version": 3
   },
   "file_extension": ".py",
   "mimetype": "text/x-python",
   "name": "python",
   "nbconvert_exporter": "python",
   "pygments_lexer": "ipython3",
   "version": "3.9.12"
  }
 },
 "nbformat": 4,
 "nbformat_minor": 1
}
